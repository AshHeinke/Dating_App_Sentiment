{
 "cells": [
  {
   "cell_type": "code",
   "execution_count": 65,
   "id": "c722a4ae",
   "metadata": {},
   "outputs": [
    {
     "name": "stdout",
     "output_type": "stream",
     "text": [
      "The autoreload extension is already loaded. To reload it, use:\n",
      "  %reload_ext autoreload\n"
     ]
    }
   ],
   "source": [
    "%load_ext autoreload\n",
    "%autoreload 2\n",
    "\n",
    "import os\n",
    "import sys\n",
    "module_path = os.path.abspath(os.path.join(os.pardir, os.pardir))\n",
    "if module_path not in sys.path:\n",
    "    sys.path.append(module_path)\n",
    "    \n",
    "import pandas as pd\n",
    "import nltk\n",
    "import itertools\n",
    "from nltk import WordNetLemmatizer, pos_tag \n",
    "from nltk.probability import FreqDist\n",
    "from nltk.corpus import stopwords, wordnet\n",
    "from nltk.tokenize import regexp_tokenize, word_tokenize, sent_tokenize, RegexpTokenizer\n",
    "from nltk.stem import PorterStemmer, SnowballStemmer, LancasterStemmer\n",
    "from nltk.sentiment.vader import SentimentIntensityAnalyzer\n",
    "from sklearn.feature_extraction.text import CountVectorizer, TfidfVectorizer\n",
    "from sklearn.model_selection import train_test_split\n",
    "from sklearn.linear_model import LogisticRegression\n",
    "from sklearn.naive_bayes import BernoulliNB\n",
    "import matplotlib.pyplot as plt\n",
    "import string\n",
    "import re\n",
    "import numpy as np"
   ]
  },
  {
   "cell_type": "code",
   "execution_count": 2,
   "id": "f447f7e4",
   "metadata": {
    "scrolled": true
   },
   "outputs": [
    {
     "name": "stderr",
     "output_type": "stream",
     "text": [
      "[nltk_data] Downloading package stopwords to\n",
      "[nltk_data]     /Users/aheinke/nltk_data...\n",
      "[nltk_data]   Package stopwords is already up-to-date!\n"
     ]
    },
    {
     "data": {
      "text/plain": [
       "True"
      ]
     },
     "execution_count": 2,
     "metadata": {},
     "output_type": "execute_result"
    }
   ],
   "source": [
    "nltk.download('stopwords')"
   ]
  },
  {
   "cell_type": "code",
   "execution_count": 3,
   "id": "8b5a94cd",
   "metadata": {},
   "outputs": [
    {
     "name": "stderr",
     "output_type": "stream",
     "text": [
      "[nltk_data] Downloading package punkt to /Users/aheinke/nltk_data...\n",
      "[nltk_data]   Package punkt is already up-to-date!\n"
     ]
    },
    {
     "data": {
      "text/plain": [
       "True"
      ]
     },
     "execution_count": 3,
     "metadata": {},
     "output_type": "execute_result"
    }
   ],
   "source": [
    "nltk.download('punkt')"
   ]
  },
  {
   "cell_type": "code",
   "execution_count": 4,
   "id": "eba2d852",
   "metadata": {},
   "outputs": [
    {
     "data": {
      "text/html": [
       "<div>\n",
       "<style scoped>\n",
       "    .dataframe tbody tr th:only-of-type {\n",
       "        vertical-align: middle;\n",
       "    }\n",
       "\n",
       "    .dataframe tbody tr th {\n",
       "        vertical-align: top;\n",
       "    }\n",
       "\n",
       "    .dataframe thead th {\n",
       "        text-align: right;\n",
       "    }\n",
       "</style>\n",
       "<table border=\"1\" class=\"dataframe\">\n",
       "  <thead>\n",
       "    <tr style=\"text-align: right;\">\n",
       "      <th></th>\n",
       "      <th>Unnamed: 0</th>\n",
       "      <th>Name</th>\n",
       "      <th>Review</th>\n",
       "      <th>Rating</th>\n",
       "      <th>#ThumbsUp</th>\n",
       "      <th>Date&amp;Time</th>\n",
       "      <th>App</th>\n",
       "    </tr>\n",
       "  </thead>\n",
       "  <tbody>\n",
       "    <tr>\n",
       "      <th>0</th>\n",
       "      <td>0</td>\n",
       "      <td>linah sibanda</td>\n",
       "      <td>On this app i cant find a partner</td>\n",
       "      <td>5</td>\n",
       "      <td>0</td>\n",
       "      <td>18-02-2022 01:19</td>\n",
       "      <td>Tinder</td>\n",
       "    </tr>\n",
       "    <tr>\n",
       "      <th>1</th>\n",
       "      <td>1</td>\n",
       "      <td>Norman Johnson</td>\n",
       "      <td>Tinder would be so much better if we could spe...</td>\n",
       "      <td>3</td>\n",
       "      <td>0</td>\n",
       "      <td>18-02-2022 01:16</td>\n",
       "      <td>Tinder</td>\n",
       "    </tr>\n",
       "    <tr>\n",
       "      <th>2</th>\n",
       "      <td>2</td>\n",
       "      <td>David Hume</td>\n",
       "      <td>Still doesn't correctly notify matches or mess...</td>\n",
       "      <td>1</td>\n",
       "      <td>0</td>\n",
       "      <td>18-02-2022 01:11</td>\n",
       "      <td>Tinder</td>\n",
       "    </tr>\n",
       "    <tr>\n",
       "      <th>3</th>\n",
       "      <td>3</td>\n",
       "      <td>Last 1 Standing</td>\n",
       "      <td>Got banned because I updated my bio to say \"I ...</td>\n",
       "      <td>2</td>\n",
       "      <td>0</td>\n",
       "      <td>18-02-2022 01:11</td>\n",
       "      <td>Tinder</td>\n",
       "    </tr>\n",
       "    <tr>\n",
       "      <th>4</th>\n",
       "      <td>4</td>\n",
       "      <td>Arthur Magamedov</td>\n",
       "      <td>Love it!</td>\n",
       "      <td>5</td>\n",
       "      <td>0</td>\n",
       "      <td>18-02-2022 01:06</td>\n",
       "      <td>Tinder</td>\n",
       "    </tr>\n",
       "    <tr>\n",
       "      <th>...</th>\n",
       "      <td>...</td>\n",
       "      <td>...</td>\n",
       "      <td>...</td>\n",
       "      <td>...</td>\n",
       "      <td>...</td>\n",
       "      <td>...</td>\n",
       "      <td>...</td>\n",
       "    </tr>\n",
       "    <tr>\n",
       "      <th>681989</th>\n",
       "      <td>52989</td>\n",
       "      <td>A Google user</td>\n",
       "      <td>Useless - I'm in the UK and it tells me i'm ov...</td>\n",
       "      <td>2</td>\n",
       "      <td>5</td>\n",
       "      <td>12-07-2017 01:44</td>\n",
       "      <td>Hinge</td>\n",
       "    </tr>\n",
       "    <tr>\n",
       "      <th>681990</th>\n",
       "      <td>52990</td>\n",
       "      <td>Brian Shook</td>\n",
       "      <td>I can't get past the initial set up.  It won't...</td>\n",
       "      <td>1</td>\n",
       "      <td>11</td>\n",
       "      <td>12-07-2017 01:36</td>\n",
       "      <td>Hinge</td>\n",
       "    </tr>\n",
       "    <tr>\n",
       "      <th>681991</th>\n",
       "      <td>52991</td>\n",
       "      <td>A Google user</td>\n",
       "      <td>This is incredible! A quality dating app for A...</td>\n",
       "      <td>5</td>\n",
       "      <td>1</td>\n",
       "      <td>12-07-2017 01:32</td>\n",
       "      <td>Hinge</td>\n",
       "    </tr>\n",
       "    <tr>\n",
       "      <th>681992</th>\n",
       "      <td>52992</td>\n",
       "      <td>A Google user</td>\n",
       "      <td>\"Over Water\" ... Can't choose location.</td>\n",
       "      <td>2</td>\n",
       "      <td>8</td>\n",
       "      <td>12-07-2017 01:28</td>\n",
       "      <td>Hinge</td>\n",
       "    </tr>\n",
       "    <tr>\n",
       "      <th>681993</th>\n",
       "      <td>52993</td>\n",
       "      <td>Dylan Fick</td>\n",
       "      <td>My entire town counts as \"over water\" and I ca...</td>\n",
       "      <td>2</td>\n",
       "      <td>15</td>\n",
       "      <td>12-07-2017 01:24</td>\n",
       "      <td>Hinge</td>\n",
       "    </tr>\n",
       "  </tbody>\n",
       "</table>\n",
       "<p>681994 rows × 7 columns</p>\n",
       "</div>"
      ],
      "text/plain": [
       "        Unnamed: 0              Name  \\\n",
       "0                0     linah sibanda   \n",
       "1                1    Norman Johnson   \n",
       "2                2        David Hume   \n",
       "3                3   Last 1 Standing   \n",
       "4                4  Arthur Magamedov   \n",
       "...            ...               ...   \n",
       "681989       52989     A Google user   \n",
       "681990       52990       Brian Shook   \n",
       "681991       52991     A Google user   \n",
       "681992       52992     A Google user   \n",
       "681993       52993        Dylan Fick   \n",
       "\n",
       "                                                   Review  Rating  #ThumbsUp  \\\n",
       "0                       On this app i cant find a partner       5          0   \n",
       "1       Tinder would be so much better if we could spe...       3          0   \n",
       "2       Still doesn't correctly notify matches or mess...       1          0   \n",
       "3       Got banned because I updated my bio to say \"I ...       2          0   \n",
       "4                                                Love it!       5          0   \n",
       "...                                                   ...     ...        ...   \n",
       "681989  Useless - I'm in the UK and it tells me i'm ov...       2          5   \n",
       "681990  I can't get past the initial set up.  It won't...       1         11   \n",
       "681991  This is incredible! A quality dating app for A...       5          1   \n",
       "681992            \"Over Water\" ... Can't choose location.       2          8   \n",
       "681993  My entire town counts as \"over water\" and I ca...       2         15   \n",
       "\n",
       "               Date&Time     App  \n",
       "0       18-02-2022 01:19  Tinder  \n",
       "1       18-02-2022 01:16  Tinder  \n",
       "2       18-02-2022 01:11  Tinder  \n",
       "3       18-02-2022 01:11  Tinder  \n",
       "4       18-02-2022 01:06  Tinder  \n",
       "...                  ...     ...  \n",
       "681989  12-07-2017 01:44   Hinge  \n",
       "681990  12-07-2017 01:36   Hinge  \n",
       "681991  12-07-2017 01:32   Hinge  \n",
       "681992  12-07-2017 01:28   Hinge  \n",
       "681993  12-07-2017 01:24   Hinge  \n",
       "\n",
       "[681994 rows x 7 columns]"
      ]
     },
     "execution_count": 4,
     "metadata": {},
     "output_type": "execute_result"
    }
   ],
   "source": [
    "# Pulling in our dataset with reviews on dating apps, downloaded from Kaggle\n",
    "dating_df = pd.read_csv('/Users/aheinke/Downloads/DatingAppReviewsDataset.csv').drop(columns = ['Unnamed: 0'])\n",
    "dating_df"
   ]
  },
  {
   "cell_type": "code",
   "execution_count": 5,
   "id": "032955c6",
   "metadata": {},
   "outputs": [
    {
     "data": {
      "text/plain": [
       "1    251969\n",
       "5    233464\n",
       "4     87347\n",
       "3     56958\n",
       "2     52255\n",
       "0         1\n",
       "Name: Rating, dtype: int64"
      ]
     },
     "execution_count": 5,
     "metadata": {},
     "output_type": "execute_result"
    }
   ],
   "source": [
    "# Checking for how many entries we have for each rating\n",
    "dating_df['Rating'].value_counts()"
   ]
  },
  {
   "cell_type": "code",
   "execution_count": 6,
   "id": "572d9742",
   "metadata": {},
   "outputs": [
    {
     "data": {
      "text/plain": [
       "Text(0.5, 1.0, 'App Rating')"
      ]
     },
     "execution_count": 6,
     "metadata": {},
     "output_type": "execute_result"
    },
    {
     "data": {
      "image/png": "[encoded data removed]",
      "text/plain": [
       "<Figure size 640x480 with 1 Axes>"
      ]
     },
     "metadata": {},
     "output_type": "display_data"
    }
   ],
   "source": [
    "plt.hist(dating_df['Rating'])\n",
    "plt.xlabel('Rating from 1-5')\n",
    "plt.ylabel('Number of Ratings')\n",
    "plt.title('App Rating')"
   ]
  },
  {
   "cell_type": "code",
   "execution_count": 7,
   "id": "9e931442",
   "metadata": {},
   "outputs": [
    {
     "data": {
      "text/plain": [
       "Tinder    526616\n",
       "Bumble    102384\n",
       "Hinge      52994\n",
       "Name: App, dtype: int64"
      ]
     },
     "execution_count": 7,
     "metadata": {},
     "output_type": "execute_result"
    }
   ],
   "source": [
    "dating_df['App'].value_counts()"
   ]
  },
  {
   "cell_type": "code",
   "execution_count": 8,
   "id": "f9ef4902",
   "metadata": {},
   "outputs": [
    {
     "data": {
      "text/plain": [
       "App     Rating\n",
       "Bumble  1          40412\n",
       "        2           9674\n",
       "        3           8841\n",
       "        4          13589\n",
       "        5          29868\n",
       "Hinge   1          15920\n",
       "        2           4509\n",
       "        3           5289\n",
       "        4           8617\n",
       "        5          18659\n",
       "Tinder  0              1\n",
       "        1         195637\n",
       "        2          38072\n",
       "        3          42828\n",
       "        4          65141\n",
       "        5         184937\n",
       "Name: Rating, dtype: int64"
      ]
     },
     "execution_count": 8,
     "metadata": {},
     "output_type": "execute_result"
    }
   ],
   "source": [
    "app_ratings2 = dating_df.groupby(['App', 'Rating'])['Rating'].count()\n",
    "app_ratings2"
   ]
  },
  {
   "cell_type": "code",
   "execution_count": 9,
   "id": "655764f5",
   "metadata": {},
   "outputs": [
    {
     "name": "stdout",
     "output_type": "stream",
     "text": [
      "<class 'pandas.core.frame.DataFrame'>\n",
      "RangeIndex: 681994 entries, 0 to 681993\n",
      "Data columns (total 7 columns):\n",
      " #   Column      Non-Null Count   Dtype \n",
      "---  ------      --------------   ----- \n",
      " 0   Unnamed: 0  681994 non-null  int64 \n",
      " 1   Name        681989 non-null  object\n",
      " 2   Review      680642 non-null  object\n",
      " 3   Rating      681994 non-null  int64 \n",
      " 4   #ThumbsUp   681994 non-null  int64 \n",
      " 5   Date&Time   681994 non-null  object\n",
      " 6   App         681994 non-null  object\n",
      "dtypes: int64(3), object(4)\n",
      "memory usage: 36.4+ MB\n"
     ]
    }
   ],
   "source": [
    "# Looking at the datatypes of each of our columns and checking for any null values\n",
    "dating_df.info()"
   ]
  },
  {
   "cell_type": "code",
   "execution_count": 10,
   "id": "d815d7b5",
   "metadata": {},
   "outputs": [],
   "source": [
    "# Changing the contents in our 'Review' column from objects to strings\n",
    "dating_df['Review'] = dating_df['Review'].astype(str)"
   ]
  },
  {
   "cell_type": "code",
   "execution_count": 11,
   "id": "8d44019e",
   "metadata": {},
   "outputs": [
    {
     "data": {
      "text/plain": [
       "0                       [On this app i cant find a partner]\n",
       "1         [Tinder would be so much better if we could sp...\n",
       "2         [Still doesn't correctly notify matches or mes...\n",
       "3         [Got banned because I updated my bio to say \"I...\n",
       "4                                                [Love it!]\n",
       "                                ...                        \n",
       "681989    [Useless - I'm in the UK and it tells me i'm o...\n",
       "681990    [I can't get past the initial set up.  It won'...\n",
       "681991    [This is incredible! A quality dating app for ...\n",
       "681992            [\"Over Water\" ... Can't choose location.]\n",
       "681993    [My entire town counts as \"over water\" and I c...\n",
       "Name: Review, Length: 681994, dtype: object"
      ]
     },
     "execution_count": 11,
     "metadata": {},
     "output_type": "execute_result"
    }
   ],
   "source": [
    "dating_df['Review'].str.split(',')"
   ]
  },
  {
   "cell_type": "code",
   "execution_count": 12,
   "id": "61e8c4c3",
   "metadata": {},
   "outputs": [
    {
     "name": "stdout",
     "output_type": "stream",
     "text": [
      "{<class 'str'>}\n"
     ]
    }
   ],
   "source": [
    "# Verifying that our 'Review' column now includes strings\n",
    "print(set(type(x) for x in dating_df['Review']))"
   ]
  },
  {
   "cell_type": "code",
   "execution_count": 63,
   "id": "06373044",
   "metadata": {},
   "outputs": [
    {
     "data": {
      "text/plain": [
       "\"Still doesn't correctly notify matches or messages. It's a monopoly so expect zero improvement in functionality. Overpriced. The recently added features like date night ask infantile and western culture based questions. Western dating culture is pure evil. The marketing tactics are designed to manipulate and extract money from men and while hiding how the app works. An evil company enabled by unregulated capitalism/psychopathy.\""
      ]
     },
     "execution_count": 63,
     "metadata": {},
     "output_type": "execute_result"
    }
   ],
   "source": [
    "# Taking a look at the text of one of the reviews (expecting some to be pretty funny)\n",
    "dating_df['Review'][2]"
   ]
  },
  {
   "cell_type": "code",
   "execution_count": 14,
   "id": "1b1b7297",
   "metadata": {},
   "outputs": [
    {
     "name": "stdout",
     "output_type": "stream",
     "text": [
      "[['On', 'this', 'app', 'i', 'cant', 'find', 'a', 'partner'], ['Tinder', 'would', 'be', 'so', 'much', 'better', 'if', 'we', 'could', 'specify', 'the', 'race', 'that', 'we', 'are', 'looking', 'for', 'instead', 'of', 'swiping', 'unnecessarily', 'though', 'EVERYONE'], ['Still', 'does', \"n't\", 'correctly', 'notify', 'matches', 'or', 'messages', '.', 'It', \"'s\", 'a', 'monopoly', 'so', 'expect', 'zero', 'improvement', 'in', 'functionality', '.', 'Overpriced', '.', 'The', 'recently', 'added', 'features', 'like', 'date', 'night', 'ask', 'infantile', 'and', 'western', 'culture', 'based', 'questions', '.', 'Western', 'dating', 'culture', 'is', 'pure', 'evil', '.', 'The', 'marketing', 'tactics', 'are', 'designed', 'to', 'manipulate', 'and', 'extract', 'money', 'from', 'men', 'and', 'while', 'hiding', 'how', 'the', 'app', 'works', '.', 'An', 'evil', 'company', 'enabled', 'by', 'unregulated', 'capitalism/psychopathy', '.'], ['Got', 'banned', 'because', 'I', 'updated', 'my', 'bio', 'to', 'say', '``', 'I', 'feel', 'like', 'most', 'girls', 'on', 'here', 'are', 'looking', 'for', 'plugs', 'or', 'sugar', 'daddies', 'and', 'I', \"'m\", 'not', 'for', 'that', \"''\", 'tinder', 'team', 'does', \"n't\", 'give', 'the', 'options', 'to', 'appel', 'bans', 'which', 'is', 'stupid', '.']]\n"
     ]
    }
   ],
   "source": [
    "# Tokenizing the text in the 'Review' column of our dataset \n",
    "corpus = [word_tokenize(doc) for doc in dating_df['Review']]\n",
    "print(corpus[0:4])"
   ]
  },
  {
   "cell_type": "code",
   "execution_count": 15,
   "id": "3a05f92f",
   "metadata": {},
   "outputs": [
    {
     "name": "stdout",
     "output_type": "stream",
     "text": [
      "(12844301,)\n"
     ]
    }
   ],
   "source": [
    "# Flattening our corpus for a better understanding of what it entails\n",
    "flattenedcorpus_tokens = pd.Series(list(itertools.chain(*corpus)))\n",
    "print(flattenedcorpus_tokens.shape)"
   ]
  },
  {
   "cell_type": "code",
   "execution_count": 16,
   "id": "403b2124",
   "metadata": {},
   "outputs": [
    {
     "name": "stdout",
     "output_type": "stream",
     "text": [
      "143861\n"
     ]
    }
   ],
   "source": [
    "# Getting a count of the amount of unique words/characters in our corpus\n",
    "dictionary = pd.Series(\n",
    "    flattenedcorpus_tokens.unique())\n",
    "print(len(dictionary))"
   ]
  },
  {
   "cell_type": "code",
   "execution_count": 17,
   "id": "4b8be62f",
   "metadata": {},
   "outputs": [
    {
     "data": {
      "text/plain": [
       ".             609596\n",
       "I             350851\n",
       "to            342230\n",
       "the           274477\n",
       ",             253732\n",
       "               ...  \n",
       "protet             1\n",
       "card.there         1\n",
       "sitea1             1\n",
       "nunbers            1\n",
       "wya                1\n",
       "Length: 143861, dtype: int64"
      ]
     },
     "execution_count": 17,
     "metadata": {},
     "output_type": "execute_result"
    }
   ],
   "source": [
    "# Looking at the value counts of those words/characters\n",
    "# Definitely have some mis-spelled words, acronyms...a number of things that we will most likely be dropping\n",
    "flattenedcorpus_tokens.value_counts()"
   ]
  },
  {
   "cell_type": "code",
   "execution_count": 18,
   "id": "39b8fcc8",
   "metadata": {},
   "outputs": [
    {
     "data": {
      "text/plain": [
       ".         609596\n",
       "I         350851\n",
       "to        342230\n",
       "the       274477\n",
       ",         253732\n",
       "and       250831\n",
       "a         223815\n",
       "app       221466\n",
       "it        218555\n",
       "n't       151779\n",
       "you       142716\n",
       "of        136740\n",
       "for       135470\n",
       "is        134807\n",
       "!         114409\n",
       "my        112080\n",
       "in        100812\n",
       "this       91801\n",
       "'s         89319\n",
       "me         88834\n",
       "have       88167\n",
       "but        87311\n",
       "on         87186\n",
       "not        87038\n",
       "that       83603\n",
       "people     73400\n",
       "with       72329\n",
       "It         63321\n",
       "do         60447\n",
       "get        57308\n",
       "dtype: int64"
      ]
     },
     "execution_count": 18,
     "metadata": {},
     "output_type": "execute_result"
    }
   ],
   "source": [
    "# Looking at the top 30 of our flattened corpus\n",
    "flattenedcorpus_tokens.value_counts()[0:30]"
   ]
  },
  {
   "cell_type": "code",
   "execution_count": 19,
   "id": "77cdc495",
   "metadata": {},
   "outputs": [
    {
     "data": {
      "text/plain": [
       "25440"
      ]
     },
     "execution_count": 19,
     "metadata": {},
     "output_type": "execute_result"
    }
   ],
   "source": [
    "flattenedcorpus_tokens.isin(['dating']).sum()"
   ]
  },
  {
   "cell_type": "code",
   "execution_count": 20,
   "id": "41663f87",
   "metadata": {},
   "outputs": [
    {
     "data": {
      "text/plain": [
       "879"
      ]
     },
     "execution_count": 20,
     "metadata": {},
     "output_type": "execute_result"
    }
   ],
   "source": [
    "flattenedcorpus_tokens.isin(['Dating']).sum()"
   ]
  },
  {
   "cell_type": "code",
   "execution_count": 21,
   "id": "705b7546",
   "metadata": {},
   "outputs": [
    {
     "data": {
      "text/plain": [
       "5743"
      ]
     },
     "execution_count": 21,
     "metadata": {},
     "output_type": "execute_result"
    }
   ],
   "source": [
    "flattenedcorpus_tokens.isin(['date']).sum()"
   ]
  },
  {
   "cell_type": "code",
   "execution_count": 22,
   "id": "37b4445c",
   "metadata": {},
   "outputs": [
    {
     "data": {
      "text/plain": [
       "118"
      ]
     },
     "execution_count": 22,
     "metadata": {},
     "output_type": "execute_result"
    }
   ],
   "source": [
    "flattenedcorpus_tokens.isin(['Date']).sum()"
   ]
  },
  {
   "cell_type": "code",
   "execution_count": 23,
   "id": "f7743ade",
   "metadata": {},
   "outputs": [
    {
     "data": {
      "text/plain": [
       "91176"
      ]
     },
     "execution_count": 23,
     "metadata": {},
     "output_type": "execute_result"
    }
   ],
   "source": [
    "# Looking at the tokens with one occurenece in the corpus\n",
    "num_one_occurence = (flattenedcorpus_tokens.\n",
    "                     value_counts() == 1).sum()\n",
    "num_one_occurence"
   ]
  },
  {
   "cell_type": "code",
   "execution_count": 24,
   "id": "a6888303",
   "metadata": {},
   "outputs": [
    {
     "data": {
      "text/plain": [
       "243           18\n",
       "263            5\n",
       "451            2\n",
       "466           24\n",
       "511          286\n",
       "           ...  \n",
       "142326      1983\n",
       "142827       235\n",
       "143458      1975\n",
       "143474    140000\n",
       "143801      8122\n",
       "Length: 809, dtype: object"
      ]
     },
     "execution_count": 24,
     "metadata": {},
     "output_type": "execute_result"
    }
   ],
   "source": [
    "# Have quite a few numeric tokens that we also won't need\n",
    "dictionary[dictionary.str.isnumeric()]"
   ]
  },
  {
   "cell_type": "code",
   "execution_count": 25,
   "id": "9a63d403",
   "metadata": {},
   "outputs": [
    {
     "name": "stdout",
     "output_type": "stream",
     "text": [
      "['i', 'me', 'my', 'myself', 'we', 'our', 'ours', 'ourselves', 'you', \"you're\"]\n"
     ]
    }
   ],
   "source": [
    "# Instantiating stopwords\n",
    "stop_words = stopwords.words('english')\n",
    "print(stop_words[0:10])"
   ]
  },
  {
   "cell_type": "code",
   "execution_count": 26,
   "id": "6e6ae01c",
   "metadata": {},
   "outputs": [],
   "source": [
    "# Looping through our corpus to remove stopwords and lowercase the leftover tokens\n",
    "def first_step_normalizer(doc):\n",
    "    norm_text = [x.lower() for x in word_tokenize(doc) if ((x.isalpha()) & (x not in stop_words)) ]\n",
    "    return norm_text"
   ]
  },
  {
   "cell_type": "code",
   "execution_count": 27,
   "id": "374d13ce",
   "metadata": {},
   "outputs": [
    {
     "data": {
      "text/html": [
       "<div>\n",
       "<style scoped>\n",
       "    .dataframe tbody tr th:only-of-type {\n",
       "        vertical-align: middle;\n",
       "    }\n",
       "\n",
       "    .dataframe tbody tr th {\n",
       "        vertical-align: top;\n",
       "    }\n",
       "\n",
       "    .dataframe thead th {\n",
       "        text-align: right;\n",
       "    }\n",
       "</style>\n",
       "<table border=\"1\" class=\"dataframe\">\n",
       "  <thead>\n",
       "    <tr style=\"text-align: right;\">\n",
       "      <th></th>\n",
       "      <th>Unnamed: 0</th>\n",
       "      <th>Name</th>\n",
       "      <th>Review</th>\n",
       "      <th>Rating</th>\n",
       "      <th>#ThumbsUp</th>\n",
       "      <th>Date&amp;Time</th>\n",
       "      <th>App</th>\n",
       "      <th>Review_norm</th>\n",
       "    </tr>\n",
       "  </thead>\n",
       "  <tbody>\n",
       "    <tr>\n",
       "      <th>0</th>\n",
       "      <td>0</td>\n",
       "      <td>linah sibanda</td>\n",
       "      <td>On this app i cant find a partner</td>\n",
       "      <td>5</td>\n",
       "      <td>0</td>\n",
       "      <td>18-02-2022 01:19</td>\n",
       "      <td>Tinder</td>\n",
       "      <td>[on, app, cant, find, partner]</td>\n",
       "    </tr>\n",
       "    <tr>\n",
       "      <th>1</th>\n",
       "      <td>1</td>\n",
       "      <td>Norman Johnson</td>\n",
       "      <td>Tinder would be so much better if we could spe...</td>\n",
       "      <td>3</td>\n",
       "      <td>0</td>\n",
       "      <td>18-02-2022 01:16</td>\n",
       "      <td>Tinder</td>\n",
       "      <td>[tinder, would, much, better, could, specify, ...</td>\n",
       "    </tr>\n",
       "    <tr>\n",
       "      <th>2</th>\n",
       "      <td>2</td>\n",
       "      <td>David Hume</td>\n",
       "      <td>Still doesn't correctly notify matches or mess...</td>\n",
       "      <td>1</td>\n",
       "      <td>0</td>\n",
       "      <td>18-02-2022 01:11</td>\n",
       "      <td>Tinder</td>\n",
       "      <td>[still, correctly, notify, matches, messages, ...</td>\n",
       "    </tr>\n",
       "    <tr>\n",
       "      <th>3</th>\n",
       "      <td>3</td>\n",
       "      <td>Last 1 Standing</td>\n",
       "      <td>Got banned because I updated my bio to say \"I ...</td>\n",
       "      <td>2</td>\n",
       "      <td>0</td>\n",
       "      <td>18-02-2022 01:11</td>\n",
       "      <td>Tinder</td>\n",
       "      <td>[got, banned, i, updated, bio, say, i, feel, l...</td>\n",
       "    </tr>\n",
       "    <tr>\n",
       "      <th>4</th>\n",
       "      <td>4</td>\n",
       "      <td>Arthur Magamedov</td>\n",
       "      <td>Love it!</td>\n",
       "      <td>5</td>\n",
       "      <td>0</td>\n",
       "      <td>18-02-2022 01:06</td>\n",
       "      <td>Tinder</td>\n",
       "      <td>[love]</td>\n",
       "    </tr>\n",
       "  </tbody>\n",
       "</table>\n",
       "</div>"
      ],
      "text/plain": [
       "   Unnamed: 0              Name  \\\n",
       "0           0     linah sibanda   \n",
       "1           1    Norman Johnson   \n",
       "2           2        David Hume   \n",
       "3           3   Last 1 Standing   \n",
       "4           4  Arthur Magamedov   \n",
       "\n",
       "                                              Review  Rating  #ThumbsUp  \\\n",
       "0                  On this app i cant find a partner       5          0   \n",
       "1  Tinder would be so much better if we could spe...       3          0   \n",
       "2  Still doesn't correctly notify matches or mess...       1          0   \n",
       "3  Got banned because I updated my bio to say \"I ...       2          0   \n",
       "4                                           Love it!       5          0   \n",
       "\n",
       "          Date&Time     App                                        Review_norm  \n",
       "0  18-02-2022 01:19  Tinder                     [on, app, cant, find, partner]  \n",
       "1  18-02-2022 01:16  Tinder  [tinder, would, much, better, could, specify, ...  \n",
       "2  18-02-2022 01:11  Tinder  [still, correctly, notify, matches, messages, ...  \n",
       "3  18-02-2022 01:11  Tinder  [got, banned, i, updated, bio, say, i, feel, l...  \n",
       "4  18-02-2022 01:06  Tinder                                             [love]  "
      ]
     },
     "execution_count": 27,
     "metadata": {},
     "output_type": "execute_result"
    }
   ],
   "source": [
    "# Creating a new column with our normalized reviews\n",
    "dating_df['Review_norm'] = dating_df['Review'].apply(first_step_normalizer)\n",
    "dating_df.head()"
   ]
  },
  {
   "cell_type": "code",
   "execution_count": 28,
   "id": "3be054ac",
   "metadata": {},
   "outputs": [
    {
     "name": "stdout",
     "output_type": "stream",
     "text": [
      "['still', 'correctly', 'notify', 'matches', 'messages', 'it', 'monopoly', 'expect', 'zero', 'improvement', 'functionality', 'overpriced', 'the', 'recently', 'added', 'features', 'like', 'date', 'night', 'ask', 'infantile', 'western', 'culture', 'based', 'questions', 'western', 'dating', 'culture', 'pure', 'evil', 'the', 'marketing', 'tactics', 'designed', 'manipulate', 'extract', 'money', 'men', 'hiding', 'app', 'works', 'an', 'evil', 'company', 'enabled', 'unregulated']\n"
     ]
    }
   ],
   "source": [
    "# Taking a look at that same review from earlier after it has been normalized\n",
    "print(dating_df['Review_norm'].iloc[2])"
   ]
  },
  {
   "cell_type": "code",
   "execution_count": 29,
   "id": "c55bc015",
   "metadata": {},
   "outputs": [
    {
     "name": "stdout",
     "output_type": "stream",
     "text": [
      "85187\n"
     ]
    }
   ],
   "source": [
    "# Checking the amount of unique tokens after removing stopwords.\n",
    "# We initally had 143,861\n",
    "norm_toks_flattened = pd.Series(list(\n",
    "    itertools.chain(*dating_df['Review_norm'])))\n",
    "new_dictionary = norm_toks_flattened.unique()\n",
    "print(len(new_dictionary))"
   ]
  },
  {
   "cell_type": "code",
   "execution_count": 30,
   "id": "4ef64a42",
   "metadata": {},
   "outputs": [],
   "source": [
    "# Instantiating our stemmers\n",
    "p_stemmer = PorterStemmer()\n",
    "s_stemmer = SnowballStemmer(language = 'english')\n",
    "l_stemmer = LancasterStemmer()"
   ]
  },
  {
   "cell_type": "code",
   "execution_count": 31,
   "id": "6570cd76",
   "metadata": {},
   "outputs": [
    {
     "name": "stdout",
     "output_type": "stream",
     "text": [
      "['still', 'correctly', 'notify', 'matches', 'messages', 'it', 'monopoly', 'expect', 'zero', 'improvement', 'functionality', 'overpriced', 'the', 'recently', 'added', 'features', 'like', 'date', 'night', 'ask', 'infantile', 'western', 'culture', 'based', 'questions', 'western', 'dating', 'culture', 'pure', 'evil', 'the', 'marketing', 'tactics', 'designed', 'manipulate', 'extract', 'money', 'men', 'hiding', 'app', 'works', 'an', 'evil', 'company', 'enabled', 'unregulated']\n"
     ]
    }
   ],
   "source": [
    "# Setting a sample review to test our stemmers/lemmatizers with\n",
    "sample_rev = dating_df['Review_norm'].iloc[2]\n",
    "print(sample_rev)"
   ]
  },
  {
   "cell_type": "code",
   "execution_count": 32,
   "id": "a37c93b8",
   "metadata": {},
   "outputs": [
    {
     "name": "stdout",
     "output_type": "stream",
     "text": [
      "['still', 'correct', 'notifi', 'match', 'messag', 'it', 'monopoli', 'expect', 'zero', 'improv', 'function', 'overpr', 'the', 'recent', 'ad', 'featur', 'like', 'date', 'night', 'ask', 'infantil', 'western', 'cultur', 'base', 'question', 'western', 'date', 'cultur', 'pure', 'evil', 'the', 'market', 'tactic', 'design', 'manipul', 'extract', 'money', 'men', 'hide', 'app', 'work', 'an', 'evil', 'compani', 'enabl', 'unregul']\n"
     ]
    }
   ],
   "source": [
    "# Trying out the snowball stemmer\n",
    "snowball_stemmed_rev  = [s_stemmer.stem(token) \n",
    "                     for token in sample_rev]\n",
    "print(snowball_stemmed_rev)"
   ]
  },
  {
   "cell_type": "code",
   "execution_count": 33,
   "id": "5ddae8a1",
   "metadata": {},
   "outputs": [
    {
     "name": "stderr",
     "output_type": "stream",
     "text": [
      "[nltk_data] Downloading package averaged_perceptron_tagger to\n",
      "[nltk_data]     /Users/aheinke/nltk_data...\n",
      "[nltk_data]   Package averaged_perceptron_tagger is already up-to-\n",
      "[nltk_data]       date!\n",
      "[nltk_data] Downloading package wordnet to /Users/aheinke/nltk_data...\n",
      "[nltk_data]   Package wordnet is already up-to-date!\n",
      "[nltk_data] Downloading package omw-1.4 to /Users/aheinke/nltk_data...\n",
      "[nltk_data]   Package omw-1.4 is already up-to-date!\n"
     ]
    },
    {
     "data": {
      "text/plain": [
       "True"
      ]
     },
     "execution_count": 33,
     "metadata": {},
     "output_type": "execute_result"
    }
   ],
   "source": [
    "nltk.download('averaged_perceptron_tagger')\n",
    "nltk.download('wordnet')\n",
    "nltk.download('omw-1.4')"
   ]
  },
  {
   "cell_type": "code",
   "execution_count": 34,
   "id": "34355e9c",
   "metadata": {},
   "outputs": [
    {
     "data": {
      "text/plain": [
       "[('still', 'RB'),\n",
       " ('correctly', 'RB'),\n",
       " ('notify', 'JJ'),\n",
       " ('matches', 'NNS'),\n",
       " ('messages', 'NNS'),\n",
       " ('it', 'PRP'),\n",
       " ('monopoly', 'JJ'),\n",
       " ('expect', 'JJ'),\n",
       " ('zero', 'NN'),\n",
       " ('improvement', 'NN'),\n",
       " ('functionality', 'NN'),\n",
       " ('overpriced', 'VBD'),\n",
       " ('the', 'DT'),\n",
       " ('recently', 'RB'),\n",
       " ('added', 'VBD'),\n",
       " ('features', 'NNS'),\n",
       " ('like', 'IN'),\n",
       " ('date', 'NN'),\n",
       " ('night', 'NN'),\n",
       " ('ask', 'NN'),\n",
       " ('infantile', 'NN'),\n",
       " ('western', 'JJ'),\n",
       " ('culture', 'NN'),\n",
       " ('based', 'VBN'),\n",
       " ('questions', 'NNS'),\n",
       " ('western', 'JJ'),\n",
       " ('dating', 'JJ'),\n",
       " ('culture', 'NN'),\n",
       " ('pure', 'NN'),\n",
       " ('evil', 'VBZ'),\n",
       " ('the', 'DT'),\n",
       " ('marketing', 'NN'),\n",
       " ('tactics', 'NNS'),\n",
       " ('designed', 'VBN'),\n",
       " ('manipulate', 'JJ'),\n",
       " ('extract', 'JJ'),\n",
       " ('money', 'NN'),\n",
       " ('men', 'NNS'),\n",
       " ('hiding', 'VBG'),\n",
       " ('app', 'NN'),\n",
       " ('works', 'VBZ'),\n",
       " ('an', 'DT'),\n",
       " ('evil', 'JJ'),\n",
       " ('company', 'NN'),\n",
       " ('enabled', 'VBD'),\n",
       " ('unregulated', 'JJ')]"
      ]
     },
     "execution_count": 34,
     "metadata": {},
     "output_type": "execute_result"
    }
   ],
   "source": [
    "# Looking at the POS tagging of our sample\n",
    "pos_tag(sample_rev)"
   ]
  },
  {
   "cell_type": "code",
   "execution_count": 35,
   "id": "06c1f796",
   "metadata": {},
   "outputs": [],
   "source": [
    "# Helper function to change nltk's part of speech tagging to a wordnet format\n",
    "def pos_tagger(nltk_tag):\n",
    "    if nltk_tag.startswith('J'):\n",
    "        return wordnet.ADJ\n",
    "    elif nltk_tag.startswith('V'):\n",
    "        return wordnet.VERB\n",
    "    elif nltk_tag.startswith('N'):\n",
    "        return wordnet.NOUN\n",
    "    elif nltk_tag.startswith('R'):\n",
    "        return wordnet.ADV\n",
    "    else:         \n",
    "        return None"
   ]
  },
  {
   "cell_type": "code",
   "execution_count": 36,
   "id": "5ecd1572",
   "metadata": {},
   "outputs": [
    {
     "name": "stdout",
     "output_type": "stream",
     "text": [
      "[('still', 'r'), ('correctly', 'r'), ('notify', 'a'), ('matches', 'n'), ('messages', 'n'), ('it', None), ('monopoly', 'a'), ('expect', 'a'), ('zero', 'n'), ('improvement', 'n'), ('functionality', 'n'), ('overpriced', 'v'), ('the', None), ('recently', 'r'), ('added', 'v'), ('features', 'n'), ('like', None), ('date', 'n'), ('night', 'n'), ('ask', 'n'), ('infantile', 'n'), ('western', 'a'), ('culture', 'n'), ('based', 'v'), ('questions', 'n'), ('western', 'a'), ('dating', 'a'), ('culture', 'n'), ('pure', 'n'), ('evil', 'v'), ('the', None), ('marketing', 'n'), ('tactics', 'n'), ('designed', 'v'), ('manipulate', 'a'), ('extract', 'a'), ('money', 'n'), ('men', 'n'), ('hiding', 'v'), ('app', 'n'), ('works', 'v'), ('an', None), ('evil', 'a'), ('company', 'n'), ('enabled', 'v'), ('unregulated', 'a')]\n"
     ]
    }
   ],
   "source": [
    "# Creates list of tokens with Wordnet format\n",
    "wordnet_tagged = list(map(lambda x: (x[0], pos_tagger(x[1])), pos_tag(sample_rev))) \n",
    "print(wordnet_tagged)"
   ]
  },
  {
   "cell_type": "code",
   "execution_count": 37,
   "id": "e8b9ae17",
   "metadata": {},
   "outputs": [
    {
     "name": "stdout",
     "output_type": "stream",
     "text": [
      "['still', 'correctly', 'notify', 'match', 'message', 'monopoly', 'expect', 'zero', 'improvement', 'functionality', 'overprice', 'recently', 'add', 'feature', 'date', 'night', 'ask', 'infantile', 'western', 'culture', 'base', 'question', 'western', 'dating', 'culture', 'pure', 'evil', 'marketing', 'tactic', 'design', 'manipulate', 'extract', 'money', 'men', 'hide', 'app', 'work', 'evil', 'company', 'enable', 'unregulated']\n"
     ]
    }
   ],
   "source": [
    "# Instantiating our Wordnet lemmatizer\n",
    "wnl = WordNetLemmatizer()\n",
    "rev_lemmatized = [wnl.lemmatize(token, pos) for token, pos in wordnet_tagged if pos is not None]\n",
    "print(rev_lemmatized)"
   ]
  },
  {
   "cell_type": "code",
   "execution_count": 38,
   "id": "12303a7d",
   "metadata": {},
   "outputs": [],
   "source": [
    "# Prefer what our Wordnet Lemmatizer returns, so we are going to apply this to our corpus\n",
    "# Takes in untokenized document and returns fully normalized token list\n",
    "def process_rev(rev):\n",
    "\n",
    "    wnl = WordNetLemmatizer()\n",
    "\n",
    "\n",
    "    def pos_tagger(nltk_tag):\n",
    "        if nltk_tag.startswith('J'):\n",
    "            return wordnet.ADJ\n",
    "        elif nltk_tag.startswith('V'):\n",
    "            return wordnet.VERB\n",
    "        elif nltk_tag.startswith('N'):\n",
    "            return wordnet.NOUN\n",
    "        elif nltk_tag.startswith('R'):\n",
    "            return wordnet.ADV\n",
    "        else:         \n",
    "            return None\n",
    "        \n",
    "    review_norm = [tok.lower() for tok in word_tokenize(rev) if ((tok.isalpha()) & (tok not in stop_words)) ]\n",
    "    \n",
    "    wordnet_tagged = list(map(lambda x: (x[0], pos_tagger(x[1])), pos_tag(review_norm))) \n",
    "    review_norm = [wnl.lemmatize(token, pos) for token, pos in wordnet_tagged if pos is not None]\n",
    "    \n",
    "    return review_norm"
   ]
  },
  {
   "cell_type": "code",
   "execution_count": 39,
   "id": "d9f18d29",
   "metadata": {},
   "outputs": [],
   "source": [
    "# Applying the code above to our Review column\n",
    "fully_normalized_corpus = dating_df['Review'].apply(process_rev)"
   ]
  },
  {
   "cell_type": "code",
   "execution_count": 40,
   "id": "cf716e9f",
   "metadata": {},
   "outputs": [
    {
     "data": {
      "text/plain": [
       "0                           [app, cant, find, partner]\n",
       "1    [tinder, much, better, specify, race, look, in...\n",
       "2    [still, correctly, notify, match, message, mon...\n",
       "3    [get, ban, i, updated, bio, say, i, feel, girl...\n",
       "4                                               [love]\n",
       "Name: Review, dtype: object"
      ]
     },
     "execution_count": 40,
     "metadata": {},
     "output_type": "execute_result"
    }
   ],
   "source": [
    "fully_normalized_corpus.head()"
   ]
  },
  {
   "cell_type": "code",
   "execution_count": 41,
   "id": "85483565",
   "metadata": {},
   "outputs": [
    {
     "data": {
      "text/plain": [
       "78067"
      ]
     },
     "execution_count": 41,
     "metadata": {},
     "output_type": "execute_result"
    }
   ],
   "source": [
    "flattened_fully_norm = pd.Series(list(itertools.chain(*fully_normalized_corpus)))\n",
    "len(flattened_fully_norm.unique())"
   ]
  },
  {
   "cell_type": "code",
   "execution_count": 42,
   "id": "9e7d695e",
   "metadata": {},
   "outputs": [
    {
     "data": {
      "text/plain": [
       "i          349643\n",
       "app        226859\n",
       "get        105209\n",
       "good        87336\n",
       "match       79310\n",
       "people      76090\n",
       "use         66263\n",
       "tinder      62204\n",
       "time        55414\n",
       "great       45256\n",
       "account     45115\n",
       "work        44952\n",
       "pay         44783\n",
       "profile     43867\n",
       "even        43829\n",
       "message     40350\n",
       "try         38664\n",
       "log         35514\n",
       "make        34582\n",
       "like        33532\n",
       "say         33218\n",
       "ban         32324\n",
       "go          32040\n",
       "date        32002\n",
       "see         30488\n",
       "nice        30026\n",
       "meet        28069\n",
       "new         27992\n",
       "swipe       27174\n",
       "money       26935\n",
       "dtype: int64"
      ]
     },
     "execution_count": 42,
     "metadata": {},
     "output_type": "execute_result"
    }
   ],
   "source": [
    "flattened_fully_norm.value_counts()[0:30]"
   ]
  },
  {
   "cell_type": "code",
   "execution_count": 43,
   "id": "32f50498",
   "metadata": {},
   "outputs": [
    {
     "data": {
      "text/plain": [
       "impotency       1\n",
       "forcedly        1\n",
       "uttterly        1\n",
       "unity           1\n",
       "createnew       1\n",
       "bloemfontein    1\n",
       "withmy          1\n",
       "interviewto     1\n",
       "randamly        1\n",
       "lendy           1\n",
       "chiste          1\n",
       "etna            1\n",
       "pigheaded       1\n",
       "iclude          1\n",
       "mojjaaa         1\n",
       "subnormales     1\n",
       "encontrarán     1\n",
       "ahad            1\n",
       "sinceros        1\n",
       "muchachos       1\n",
       "vrsn            1\n",
       "agreeing        1\n",
       "thougn          1\n",
       "jjg             1\n",
       "inagain         1\n",
       "vvvbn           1\n",
       "creap           1\n",
       "courpse         1\n",
       "guid            1\n",
       "wya             1\n",
       "dtype: int64"
      ]
     },
     "execution_count": 43,
     "metadata": {},
     "output_type": "execute_result"
    }
   ],
   "source": [
    "flattened_fully_norm.value_counts().tail(30)"
   ]
  },
  {
   "cell_type": "code",
   "execution_count": 44,
   "id": "16124bb6",
   "metadata": {},
   "outputs": [
    {
     "name": "stdout",
     "output_type": "stream",
     "text": [
      "46495\n"
     ]
    }
   ],
   "source": [
    "flattened_fully_norm_value_counts = flattened_fully_norm.value_counts()\n",
    "count_of_single_occurrences = (flattened_fully_norm_value_counts == 1).sum()\n",
    "print(count_of_single_occurrences)"
   ]
  },
  {
   "cell_type": "code",
   "execution_count": 45,
   "id": "0f159512",
   "metadata": {},
   "outputs": [],
   "source": [
    "# Checking the 200 mmost frequent words\n",
    "freqdist = FreqDist(flattened_fully_norm)\n",
    " \n",
    "most_common = freqdist.most_common(200)"
   ]
  },
  {
   "cell_type": "code",
   "execution_count": 46,
   "id": "9a5bae6d",
   "metadata": {},
   "outputs": [],
   "source": [
    "# Turning our preprocessed data into a csv\n",
    "fnc_output = fully_normalized_corpus.apply(\" \".join)\n",
    "\n",
    "fnc_output.to_csv('/Users/aheinke/Documents/Flatiron/phase-5-proj/dating_norm.csv')"
   ]
  },
  {
   "cell_type": "code",
   "execution_count": 47,
   "id": "39c2d72f",
   "metadata": {},
   "outputs": [
    {
     "data": {
      "text/plain": [
       "0                                     app cant find partner\n",
       "1         tinder much better specify race look instead s...\n",
       "2         still correctly notify match message monopoly ...\n",
       "3         get ban i updated bio say i feel girl look plu...\n",
       "4                                                      love\n",
       "                                ...                        \n",
       "681989    useless i uk tell water let get run little tes...\n",
       "681990    i get past initial set set neighborhood think ...\n",
       "681991    incredible quality date app android boyfriend wya\n",
       "681992                                water choose location\n",
       "681993                    entire town count water i proceed\n",
       "Name: Review, Length: 681994, dtype: object"
      ]
     },
     "execution_count": 47,
     "metadata": {},
     "output_type": "execute_result"
    }
   ],
   "source": [
    "fnc_output"
   ]
  },
  {
   "cell_type": "code",
   "execution_count": 48,
   "id": "215746fc",
   "metadata": {},
   "outputs": [
    {
     "data": {
      "text/html": [
       "<div>\n",
       "<style scoped>\n",
       "    .dataframe tbody tr th:only-of-type {\n",
       "        vertical-align: middle;\n",
       "    }\n",
       "\n",
       "    .dataframe tbody tr th {\n",
       "        vertical-align: top;\n",
       "    }\n",
       "\n",
       "    .dataframe thead th {\n",
       "        text-align: right;\n",
       "    }\n",
       "</style>\n",
       "<table border=\"1\" class=\"dataframe\">\n",
       "  <thead>\n",
       "    <tr style=\"text-align: right;\">\n",
       "      <th></th>\n",
       "      <th>Review</th>\n",
       "    </tr>\n",
       "  </thead>\n",
       "  <tbody>\n",
       "    <tr>\n",
       "      <th>0</th>\n",
       "      <td>app cant find partner</td>\n",
       "    </tr>\n",
       "    <tr>\n",
       "      <th>1</th>\n",
       "      <td>tinder much better specify race look instead s...</td>\n",
       "    </tr>\n",
       "    <tr>\n",
       "      <th>2</th>\n",
       "      <td>still correctly notify match message monopoly ...</td>\n",
       "    </tr>\n",
       "    <tr>\n",
       "      <th>3</th>\n",
       "      <td>get ban i updated bio say i feel girl look plu...</td>\n",
       "    </tr>\n",
       "    <tr>\n",
       "      <th>4</th>\n",
       "      <td>love</td>\n",
       "    </tr>\n",
       "    <tr>\n",
       "      <th>...</th>\n",
       "      <td>...</td>\n",
       "    </tr>\n",
       "    <tr>\n",
       "      <th>681989</th>\n",
       "      <td>useless i uk tell water let get run little tes...</td>\n",
       "    </tr>\n",
       "    <tr>\n",
       "      <th>681990</th>\n",
       "      <td>i get past initial set set neighborhood think ...</td>\n",
       "    </tr>\n",
       "    <tr>\n",
       "      <th>681991</th>\n",
       "      <td>incredible quality date app android boyfriend wya</td>\n",
       "    </tr>\n",
       "    <tr>\n",
       "      <th>681992</th>\n",
       "      <td>water choose location</td>\n",
       "    </tr>\n",
       "    <tr>\n",
       "      <th>681993</th>\n",
       "      <td>entire town count water i proceed</td>\n",
       "    </tr>\n",
       "  </tbody>\n",
       "</table>\n",
       "<p>681994 rows × 1 columns</p>\n",
       "</div>"
      ],
      "text/plain": [
       "                                                   Review\n",
       "0                                   app cant find partner\n",
       "1       tinder much better specify race look instead s...\n",
       "2       still correctly notify match message monopoly ...\n",
       "3       get ban i updated bio say i feel girl look plu...\n",
       "4                                                    love\n",
       "...                                                   ...\n",
       "681989  useless i uk tell water let get run little tes...\n",
       "681990  i get past initial set set neighborhood think ...\n",
       "681991  incredible quality date app android boyfriend wya\n",
       "681992                              water choose location\n",
       "681993                  entire town count water i proceed\n",
       "\n",
       "[681994 rows x 1 columns]"
      ]
     },
     "execution_count": 48,
     "metadata": {},
     "output_type": "execute_result"
    }
   ],
   "source": [
    "# Pulling in our new dataset\n",
    "corpus_df = pd.read_csv('/Users/aheinke/Documents/Flatiron/phase-5-proj/dating_norm.csv').drop(columns = ['Unnamed: 0'])\n",
    "corpus_df"
   ]
  },
  {
   "cell_type": "code",
   "execution_count": 49,
   "id": "28a647f3",
   "metadata": {},
   "outputs": [
    {
     "data": {
      "text/plain": [
       "9996"
      ]
     },
     "execution_count": 49,
     "metadata": {},
     "output_type": "execute_result"
    }
   ],
   "source": [
    "corpus_df['Review'].isnull().sum()"
   ]
  },
  {
   "cell_type": "code",
   "execution_count": 50,
   "id": "adae87a9",
   "metadata": {},
   "outputs": [],
   "source": [
    "corpus_df['Review'].fillna('', inplace = True)"
   ]
  },
  {
   "cell_type": "code",
   "execution_count": 51,
   "id": "211124f6",
   "metadata": {},
   "outputs": [
    {
     "data": {
      "text/html": [
       "<div>\n",
       "<style scoped>\n",
       "    .dataframe tbody tr th:only-of-type {\n",
       "        vertical-align: middle;\n",
       "    }\n",
       "\n",
       "    .dataframe tbody tr th {\n",
       "        vertical-align: top;\n",
       "    }\n",
       "\n",
       "    .dataframe thead th {\n",
       "        text-align: right;\n",
       "    }\n",
       "</style>\n",
       "<table border=\"1\" class=\"dataframe\">\n",
       "  <thead>\n",
       "    <tr style=\"text-align: right;\">\n",
       "      <th></th>\n",
       "      <th>account</th>\n",
       "      <th>also</th>\n",
       "      <th>app</th>\n",
       "      <th>apps</th>\n",
       "      <th>back</th>\n",
       "      <th>bad</th>\n",
       "      <th>ban</th>\n",
       "      <th>best</th>\n",
       "      <th>cool</th>\n",
       "      <th>date</th>\n",
       "      <th>...</th>\n",
       "      <th>tinder</th>\n",
       "      <th>try</th>\n",
       "      <th>update</th>\n",
       "      <th>use</th>\n",
       "      <th>want</th>\n",
       "      <th>waste</th>\n",
       "      <th>way</th>\n",
       "      <th>well</th>\n",
       "      <th>woman</th>\n",
       "      <th>work</th>\n",
       "    </tr>\n",
       "  </thead>\n",
       "  <tbody>\n",
       "    <tr>\n",
       "      <th>0</th>\n",
       "      <td>0</td>\n",
       "      <td>0</td>\n",
       "      <td>1</td>\n",
       "      <td>0</td>\n",
       "      <td>0</td>\n",
       "      <td>0</td>\n",
       "      <td>0</td>\n",
       "      <td>0</td>\n",
       "      <td>0</td>\n",
       "      <td>0</td>\n",
       "      <td>...</td>\n",
       "      <td>0</td>\n",
       "      <td>0</td>\n",
       "      <td>0</td>\n",
       "      <td>0</td>\n",
       "      <td>0</td>\n",
       "      <td>0</td>\n",
       "      <td>0</td>\n",
       "      <td>0</td>\n",
       "      <td>0</td>\n",
       "      <td>0</td>\n",
       "    </tr>\n",
       "    <tr>\n",
       "      <th>1</th>\n",
       "      <td>0</td>\n",
       "      <td>0</td>\n",
       "      <td>0</td>\n",
       "      <td>0</td>\n",
       "      <td>0</td>\n",
       "      <td>0</td>\n",
       "      <td>0</td>\n",
       "      <td>0</td>\n",
       "      <td>0</td>\n",
       "      <td>0</td>\n",
       "      <td>...</td>\n",
       "      <td>1</td>\n",
       "      <td>0</td>\n",
       "      <td>0</td>\n",
       "      <td>0</td>\n",
       "      <td>0</td>\n",
       "      <td>0</td>\n",
       "      <td>0</td>\n",
       "      <td>0</td>\n",
       "      <td>0</td>\n",
       "      <td>0</td>\n",
       "    </tr>\n",
       "    <tr>\n",
       "      <th>2</th>\n",
       "      <td>0</td>\n",
       "      <td>0</td>\n",
       "      <td>1</td>\n",
       "      <td>0</td>\n",
       "      <td>0</td>\n",
       "      <td>0</td>\n",
       "      <td>0</td>\n",
       "      <td>0</td>\n",
       "      <td>0</td>\n",
       "      <td>1</td>\n",
       "      <td>...</td>\n",
       "      <td>0</td>\n",
       "      <td>0</td>\n",
       "      <td>0</td>\n",
       "      <td>0</td>\n",
       "      <td>0</td>\n",
       "      <td>0</td>\n",
       "      <td>0</td>\n",
       "      <td>0</td>\n",
       "      <td>0</td>\n",
       "      <td>1</td>\n",
       "    </tr>\n",
       "    <tr>\n",
       "      <th>3</th>\n",
       "      <td>0</td>\n",
       "      <td>0</td>\n",
       "      <td>0</td>\n",
       "      <td>0</td>\n",
       "      <td>0</td>\n",
       "      <td>0</td>\n",
       "      <td>2</td>\n",
       "      <td>0</td>\n",
       "      <td>0</td>\n",
       "      <td>0</td>\n",
       "      <td>...</td>\n",
       "      <td>1</td>\n",
       "      <td>0</td>\n",
       "      <td>0</td>\n",
       "      <td>0</td>\n",
       "      <td>0</td>\n",
       "      <td>0</td>\n",
       "      <td>0</td>\n",
       "      <td>0</td>\n",
       "      <td>0</td>\n",
       "      <td>0</td>\n",
       "    </tr>\n",
       "    <tr>\n",
       "      <th>4</th>\n",
       "      <td>0</td>\n",
       "      <td>0</td>\n",
       "      <td>0</td>\n",
       "      <td>0</td>\n",
       "      <td>0</td>\n",
       "      <td>0</td>\n",
       "      <td>0</td>\n",
       "      <td>0</td>\n",
       "      <td>0</td>\n",
       "      <td>0</td>\n",
       "      <td>...</td>\n",
       "      <td>0</td>\n",
       "      <td>0</td>\n",
       "      <td>0</td>\n",
       "      <td>0</td>\n",
       "      <td>0</td>\n",
       "      <td>0</td>\n",
       "      <td>0</td>\n",
       "      <td>0</td>\n",
       "      <td>0</td>\n",
       "      <td>0</td>\n",
       "    </tr>\n",
       "  </tbody>\n",
       "</table>\n",
       "<p>5 rows × 75 columns</p>\n",
       "</div>"
      ],
      "text/plain": [
       "   account  also  app  apps  back  bad  ban  best  cool  date  ...  tinder  \\\n",
       "0        0     0    1     0     0    0    0     0     0     0  ...       0   \n",
       "1        0     0    0     0     0    0    0     0     0     0  ...       1   \n",
       "2        0     0    1     0     0    0    0     0     0     1  ...       0   \n",
       "3        0     0    0     0     0    0    2     0     0     0  ...       1   \n",
       "4        0     0    0     0     0    0    0     0     0     0  ...       0   \n",
       "\n",
       "   try  update  use  want  waste  way  well  woman  work  \n",
       "0    0       0    0     0      0    0     0      0     0  \n",
       "1    0       0    0     0      0    0     0      0     0  \n",
       "2    0       0    0     0      0    0     0      0     1  \n",
       "3    0       0    0     0      0    0     0      0     0  \n",
       "4    0       0    0     0      0    0     0      0     0  \n",
       "\n",
       "[5 rows x 75 columns]"
      ]
     },
     "execution_count": 51,
     "metadata": {},
     "output_type": "execute_result"
    }
   ],
   "source": [
    "# Convert our preprocessed strings (normalized token sequence) to a matrix of token counts\n",
    "vec = CountVectorizer(min_df = 0.02, max_df = 0.98)\n",
    "X = vec.fit_transform(corpus_df['Review'])\n",
    "\n",
    "# .get_feature_names_out() useful attribute\n",
    "countvec_df = pd.DataFrame(X.toarray(), columns = vec.get_feature_names_out())\n",
    "countvec_df.head()"
   ]
  },
  {
   "cell_type": "code",
   "execution_count": 52,
   "id": "de44feb8",
   "metadata": {},
   "outputs": [],
   "source": [
    "#tf_vec = TfidfVectorizer()\n",
    "#X_tfidf = tf_vec.fit_transform(corpus_df['Review'])\n",
    "\n",
    "#vec_tfidf = pd.DataFrame(X_tfidf.toarray(), columns = tf_vec.get_feature_names_out())\n",
    "#vec_tfidf.head()"
   ]
  },
  {
   "cell_type": "code",
   "execution_count": 53,
   "id": "4f325c0d",
   "metadata": {},
   "outputs": [
    {
     "name": "stderr",
     "output_type": "stream",
     "text": [
      "[nltk_data] Downloading package vader_lexicon to\n",
      "[nltk_data]     /Users/aheinke/nltk_data...\n",
      "[nltk_data]   Package vader_lexicon is already up-to-date!\n"
     ]
    }
   ],
   "source": [
    "#download vader from nltk\n",
    "nltk.download('vader_lexicon')\n",
    "\n",
    "#creating an object of sentiment intensity analyzer\n",
    "sia = SentimentIntensityAnalyzer()"
   ]
  },
  {
   "cell_type": "code",
   "execution_count": 54,
   "id": "1ae7e8cf",
   "metadata": {},
   "outputs": [
    {
     "data": {
      "text/html": [
       "<div>\n",
       "<style scoped>\n",
       "    .dataframe tbody tr th:only-of-type {\n",
       "        vertical-align: middle;\n",
       "    }\n",
       "\n",
       "    .dataframe tbody tr th {\n",
       "        vertical-align: top;\n",
       "    }\n",
       "\n",
       "    .dataframe thead th {\n",
       "        text-align: right;\n",
       "    }\n",
       "</style>\n",
       "<table border=\"1\" class=\"dataframe\">\n",
       "  <thead>\n",
       "    <tr style=\"text-align: right;\">\n",
       "      <th></th>\n",
       "      <th>Unnamed: 0</th>\n",
       "      <th>Name</th>\n",
       "      <th>Review</th>\n",
       "      <th>Rating</th>\n",
       "      <th>#ThumbsUp</th>\n",
       "      <th>Date&amp;Time</th>\n",
       "      <th>App</th>\n",
       "      <th>Review_norm</th>\n",
       "      <th>scores</th>\n",
       "    </tr>\n",
       "  </thead>\n",
       "  <tbody>\n",
       "    <tr>\n",
       "      <th>0</th>\n",
       "      <td>0</td>\n",
       "      <td>linah sibanda</td>\n",
       "      <td>On this app i cant find a partner</td>\n",
       "      <td>5</td>\n",
       "      <td>0</td>\n",
       "      <td>18-02-2022 01:19</td>\n",
       "      <td>Tinder</td>\n",
       "      <td>[on, app, cant, find, partner]</td>\n",
       "      <td>{'neg': 0.0, 'neu': 1.0, 'pos': 0.0, 'compound...</td>\n",
       "    </tr>\n",
       "    <tr>\n",
       "      <th>1</th>\n",
       "      <td>1</td>\n",
       "      <td>Norman Johnson</td>\n",
       "      <td>Tinder would be so much better if we could spe...</td>\n",
       "      <td>3</td>\n",
       "      <td>0</td>\n",
       "      <td>18-02-2022 01:16</td>\n",
       "      <td>Tinder</td>\n",
       "      <td>[tinder, would, much, better, could, specify, ...</td>\n",
       "      <td>{'neg': 0.0, 'neu': 0.874, 'pos': 0.126, 'comp...</td>\n",
       "    </tr>\n",
       "    <tr>\n",
       "      <th>2</th>\n",
       "      <td>2</td>\n",
       "      <td>David Hume</td>\n",
       "      <td>Still doesn't correctly notify matches or mess...</td>\n",
       "      <td>1</td>\n",
       "      <td>0</td>\n",
       "      <td>18-02-2022 01:11</td>\n",
       "      <td>Tinder</td>\n",
       "      <td>[still, correctly, notify, matches, messages, ...</td>\n",
       "      <td>{'neg': 0.149, 'neu': 0.773, 'pos': 0.078, 'co...</td>\n",
       "    </tr>\n",
       "    <tr>\n",
       "      <th>3</th>\n",
       "      <td>3</td>\n",
       "      <td>Last 1 Standing</td>\n",
       "      <td>Got banned because I updated my bio to say \"I ...</td>\n",
       "      <td>2</td>\n",
       "      <td>0</td>\n",
       "      <td>18-02-2022 01:11</td>\n",
       "      <td>Tinder</td>\n",
       "      <td>[got, banned, i, updated, bio, say, i, feel, l...</td>\n",
       "      <td>{'neg': 0.143, 'neu': 0.802, 'pos': 0.056, 'co...</td>\n",
       "    </tr>\n",
       "    <tr>\n",
       "      <th>4</th>\n",
       "      <td>4</td>\n",
       "      <td>Arthur Magamedov</td>\n",
       "      <td>Love it!</td>\n",
       "      <td>5</td>\n",
       "      <td>0</td>\n",
       "      <td>18-02-2022 01:06</td>\n",
       "      <td>Tinder</td>\n",
       "      <td>[love]</td>\n",
       "      <td>{'neg': 0.0, 'neu': 0.182, 'pos': 0.818, 'comp...</td>\n",
       "    </tr>\n",
       "  </tbody>\n",
       "</table>\n",
       "</div>"
      ],
      "text/plain": [
       "   Unnamed: 0              Name  \\\n",
       "0           0     linah sibanda   \n",
       "1           1    Norman Johnson   \n",
       "2           2        David Hume   \n",
       "3           3   Last 1 Standing   \n",
       "4           4  Arthur Magamedov   \n",
       "\n",
       "                                              Review  Rating  #ThumbsUp  \\\n",
       "0                  On this app i cant find a partner       5          0   \n",
       "1  Tinder would be so much better if we could spe...       3          0   \n",
       "2  Still doesn't correctly notify matches or mess...       1          0   \n",
       "3  Got banned because I updated my bio to say \"I ...       2          0   \n",
       "4                                           Love it!       5          0   \n",
       "\n",
       "          Date&Time     App  \\\n",
       "0  18-02-2022 01:19  Tinder   \n",
       "1  18-02-2022 01:16  Tinder   \n",
       "2  18-02-2022 01:11  Tinder   \n",
       "3  18-02-2022 01:11  Tinder   \n",
       "4  18-02-2022 01:06  Tinder   \n",
       "\n",
       "                                         Review_norm  \\\n",
       "0                     [on, app, cant, find, partner]   \n",
       "1  [tinder, would, much, better, could, specify, ...   \n",
       "2  [still, correctly, notify, matches, messages, ...   \n",
       "3  [got, banned, i, updated, bio, say, i, feel, l...   \n",
       "4                                             [love]   \n",
       "\n",
       "                                              scores  \n",
       "0  {'neg': 0.0, 'neu': 1.0, 'pos': 0.0, 'compound...  \n",
       "1  {'neg': 0.0, 'neu': 0.874, 'pos': 0.126, 'comp...  \n",
       "2  {'neg': 0.149, 'neu': 0.773, 'pos': 0.078, 'co...  \n",
       "3  {'neg': 0.143, 'neu': 0.802, 'pos': 0.056, 'co...  \n",
       "4  {'neg': 0.0, 'neu': 0.182, 'pos': 0.818, 'comp...  "
      ]
     },
     "execution_count": 54,
     "metadata": {},
     "output_type": "execute_result"
    }
   ],
   "source": [
    "#creating new column scores using polarity scores function\n",
    "dating_df['scores'] = dating_df['Review'].apply(lambda body: sia.polarity_scores(str(body)))\n",
    "dating_df.head()"
   ]
  },
  {
   "cell_type": "code",
   "execution_count": 55,
   "id": "ef3ac534",
   "metadata": {},
   "outputs": [
    {
     "data": {
      "text/html": [
       "<div>\n",
       "<style scoped>\n",
       "    .dataframe tbody tr th:only-of-type {\n",
       "        vertical-align: middle;\n",
       "    }\n",
       "\n",
       "    .dataframe tbody tr th {\n",
       "        vertical-align: top;\n",
       "    }\n",
       "\n",
       "    .dataframe thead th {\n",
       "        text-align: right;\n",
       "    }\n",
       "</style>\n",
       "<table border=\"1\" class=\"dataframe\">\n",
       "  <thead>\n",
       "    <tr style=\"text-align: right;\">\n",
       "      <th></th>\n",
       "      <th>Unnamed: 0</th>\n",
       "      <th>Name</th>\n",
       "      <th>Review</th>\n",
       "      <th>Rating</th>\n",
       "      <th>#ThumbsUp</th>\n",
       "      <th>Date&amp;Time</th>\n",
       "      <th>App</th>\n",
       "      <th>Review_norm</th>\n",
       "      <th>scores</th>\n",
       "      <th>compound</th>\n",
       "      <th>pos</th>\n",
       "      <th>neg</th>\n",
       "    </tr>\n",
       "  </thead>\n",
       "  <tbody>\n",
       "    <tr>\n",
       "      <th>0</th>\n",
       "      <td>0</td>\n",
       "      <td>linah sibanda</td>\n",
       "      <td>On this app i cant find a partner</td>\n",
       "      <td>5</td>\n",
       "      <td>0</td>\n",
       "      <td>18-02-2022 01:19</td>\n",
       "      <td>Tinder</td>\n",
       "      <td>[on, app, cant, find, partner]</td>\n",
       "      <td>{'neg': 0.0, 'neu': 1.0, 'pos': 0.0, 'compound...</td>\n",
       "      <td>0.0000</td>\n",
       "      <td>0.000</td>\n",
       "      <td>0.000</td>\n",
       "    </tr>\n",
       "    <tr>\n",
       "      <th>1</th>\n",
       "      <td>1</td>\n",
       "      <td>Norman Johnson</td>\n",
       "      <td>Tinder would be so much better if we could spe...</td>\n",
       "      <td>3</td>\n",
       "      <td>0</td>\n",
       "      <td>18-02-2022 01:16</td>\n",
       "      <td>Tinder</td>\n",
       "      <td>[tinder, would, much, better, could, specify, ...</td>\n",
       "      <td>{'neg': 0.0, 'neu': 0.874, 'pos': 0.126, 'comp...</td>\n",
       "      <td>0.4902</td>\n",
       "      <td>0.126</td>\n",
       "      <td>0.000</td>\n",
       "    </tr>\n",
       "    <tr>\n",
       "      <th>2</th>\n",
       "      <td>2</td>\n",
       "      <td>David Hume</td>\n",
       "      <td>Still doesn't correctly notify matches or mess...</td>\n",
       "      <td>1</td>\n",
       "      <td>0</td>\n",
       "      <td>18-02-2022 01:11</td>\n",
       "      <td>Tinder</td>\n",
       "      <td>[still, correctly, notify, matches, messages, ...</td>\n",
       "      <td>{'neg': 0.149, 'neu': 0.773, 'pos': 0.078, 'co...</td>\n",
       "      <td>-0.7380</td>\n",
       "      <td>0.078</td>\n",
       "      <td>0.149</td>\n",
       "    </tr>\n",
       "    <tr>\n",
       "      <th>3</th>\n",
       "      <td>3</td>\n",
       "      <td>Last 1 Standing</td>\n",
       "      <td>Got banned because I updated my bio to say \"I ...</td>\n",
       "      <td>2</td>\n",
       "      <td>0</td>\n",
       "      <td>18-02-2022 01:11</td>\n",
       "      <td>Tinder</td>\n",
       "      <td>[got, banned, i, updated, bio, say, i, feel, l...</td>\n",
       "      <td>{'neg': 0.143, 'neu': 0.802, 'pos': 0.056, 'co...</td>\n",
       "      <td>-0.5994</td>\n",
       "      <td>0.056</td>\n",
       "      <td>0.143</td>\n",
       "    </tr>\n",
       "    <tr>\n",
       "      <th>4</th>\n",
       "      <td>4</td>\n",
       "      <td>Arthur Magamedov</td>\n",
       "      <td>Love it!</td>\n",
       "      <td>5</td>\n",
       "      <td>0</td>\n",
       "      <td>18-02-2022 01:06</td>\n",
       "      <td>Tinder</td>\n",
       "      <td>[love]</td>\n",
       "      <td>{'neg': 0.0, 'neu': 0.182, 'pos': 0.818, 'comp...</td>\n",
       "      <td>0.6696</td>\n",
       "      <td>0.818</td>\n",
       "      <td>0.000</td>\n",
       "    </tr>\n",
       "  </tbody>\n",
       "</table>\n",
       "</div>"
      ],
      "text/plain": [
       "   Unnamed: 0              Name  \\\n",
       "0           0     linah sibanda   \n",
       "1           1    Norman Johnson   \n",
       "2           2        David Hume   \n",
       "3           3   Last 1 Standing   \n",
       "4           4  Arthur Magamedov   \n",
       "\n",
       "                                              Review  Rating  #ThumbsUp  \\\n",
       "0                  On this app i cant find a partner       5          0   \n",
       "1  Tinder would be so much better if we could spe...       3          0   \n",
       "2  Still doesn't correctly notify matches or mess...       1          0   \n",
       "3  Got banned because I updated my bio to say \"I ...       2          0   \n",
       "4                                           Love it!       5          0   \n",
       "\n",
       "          Date&Time     App  \\\n",
       "0  18-02-2022 01:19  Tinder   \n",
       "1  18-02-2022 01:16  Tinder   \n",
       "2  18-02-2022 01:11  Tinder   \n",
       "3  18-02-2022 01:11  Tinder   \n",
       "4  18-02-2022 01:06  Tinder   \n",
       "\n",
       "                                         Review_norm  \\\n",
       "0                     [on, app, cant, find, partner]   \n",
       "1  [tinder, would, much, better, could, specify, ...   \n",
       "2  [still, correctly, notify, matches, messages, ...   \n",
       "3  [got, banned, i, updated, bio, say, i, feel, l...   \n",
       "4                                             [love]   \n",
       "\n",
       "                                              scores  compound    pos    neg  \n",
       "0  {'neg': 0.0, 'neu': 1.0, 'pos': 0.0, 'compound...    0.0000  0.000  0.000  \n",
       "1  {'neg': 0.0, 'neu': 0.874, 'pos': 0.126, 'comp...    0.4902  0.126  0.000  \n",
       "2  {'neg': 0.149, 'neu': 0.773, 'pos': 0.078, 'co...   -0.7380  0.078  0.149  \n",
       "3  {'neg': 0.143, 'neu': 0.802, 'pos': 0.056, 'co...   -0.5994  0.056  0.143  \n",
       "4  {'neg': 0.0, 'neu': 0.182, 'pos': 0.818, 'comp...    0.6696  0.818  0.000  "
      ]
     },
     "execution_count": 55,
     "metadata": {},
     "output_type": "execute_result"
    }
   ],
   "source": [
    "# Adding columns for compound, positive, negative, and neutral scores\n",
    "dating_df['compound'] = dating_df['scores'].apply(lambda score_dict:score_dict['compound'])\n",
    "dating_df['pos'] = dating_df['scores'].apply(lambda pos_dict:pos_dict['pos'])\n",
    "dating_df['neg'] = dating_df['scores'].apply(lambda neg_dict:neg_dict['neg'])\n",
    "dating_df['neu'] = dating_df['scores'].apply(lambda neg_dict:neg_dict['neu'])\n",
    "dating_df.head()"
   ]
  },
  {
   "cell_type": "code",
   "execution_count": 57,
   "id": "7edf697d",
   "metadata": {},
   "outputs": [
    {
     "data": {
      "text/html": [
       "<div>\n",
       "<style scoped>\n",
       "    .dataframe tbody tr th:only-of-type {\n",
       "        vertical-align: middle;\n",
       "    }\n",
       "\n",
       "    .dataframe tbody tr th {\n",
       "        vertical-align: top;\n",
       "    }\n",
       "\n",
       "    .dataframe thead th {\n",
       "        text-align: right;\n",
       "    }\n",
       "</style>\n",
       "<table border=\"1\" class=\"dataframe\">\n",
       "  <thead>\n",
       "    <tr style=\"text-align: right;\">\n",
       "      <th></th>\n",
       "      <th>Unnamed: 0</th>\n",
       "      <th>Name</th>\n",
       "      <th>Review</th>\n",
       "      <th>Rating</th>\n",
       "      <th>#ThumbsUp</th>\n",
       "      <th>Date&amp;Time</th>\n",
       "      <th>App</th>\n",
       "      <th>Review_norm</th>\n",
       "      <th>scores</th>\n",
       "      <th>compound</th>\n",
       "      <th>pos</th>\n",
       "      <th>neg</th>\n",
       "      <th>type</th>\n",
       "    </tr>\n",
       "  </thead>\n",
       "  <tbody>\n",
       "    <tr>\n",
       "      <th>0</th>\n",
       "      <td>0</td>\n",
       "      <td>linah sibanda</td>\n",
       "      <td>On this app i cant find a partner</td>\n",
       "      <td>5</td>\n",
       "      <td>0</td>\n",
       "      <td>18-02-2022 01:19</td>\n",
       "      <td>Tinder</td>\n",
       "      <td>[on, app, cant, find, partner]</td>\n",
       "      <td>{'neg': 0.0, 'neu': 1.0, 'pos': 0.0, 'compound...</td>\n",
       "      <td>0.0000</td>\n",
       "      <td>0.000</td>\n",
       "      <td>0.000</td>\n",
       "      <td>NEUTRAL</td>\n",
       "    </tr>\n",
       "    <tr>\n",
       "      <th>1</th>\n",
       "      <td>1</td>\n",
       "      <td>Norman Johnson</td>\n",
       "      <td>Tinder would be so much better if we could spe...</td>\n",
       "      <td>3</td>\n",
       "      <td>0</td>\n",
       "      <td>18-02-2022 01:16</td>\n",
       "      <td>Tinder</td>\n",
       "      <td>[tinder, would, much, better, could, specify, ...</td>\n",
       "      <td>{'neg': 0.0, 'neu': 0.874, 'pos': 0.126, 'comp...</td>\n",
       "      <td>0.4902</td>\n",
       "      <td>0.126</td>\n",
       "      <td>0.000</td>\n",
       "      <td>POS</td>\n",
       "    </tr>\n",
       "    <tr>\n",
       "      <th>2</th>\n",
       "      <td>2</td>\n",
       "      <td>David Hume</td>\n",
       "      <td>Still doesn't correctly notify matches or mess...</td>\n",
       "      <td>1</td>\n",
       "      <td>0</td>\n",
       "      <td>18-02-2022 01:11</td>\n",
       "      <td>Tinder</td>\n",
       "      <td>[still, correctly, notify, matches, messages, ...</td>\n",
       "      <td>{'neg': 0.149, 'neu': 0.773, 'pos': 0.078, 'co...</td>\n",
       "      <td>-0.7380</td>\n",
       "      <td>0.078</td>\n",
       "      <td>0.149</td>\n",
       "      <td>NEG</td>\n",
       "    </tr>\n",
       "    <tr>\n",
       "      <th>3</th>\n",
       "      <td>3</td>\n",
       "      <td>Last 1 Standing</td>\n",
       "      <td>Got banned because I updated my bio to say \"I ...</td>\n",
       "      <td>2</td>\n",
       "      <td>0</td>\n",
       "      <td>18-02-2022 01:11</td>\n",
       "      <td>Tinder</td>\n",
       "      <td>[got, banned, i, updated, bio, say, i, feel, l...</td>\n",
       "      <td>{'neg': 0.143, 'neu': 0.802, 'pos': 0.056, 'co...</td>\n",
       "      <td>-0.5994</td>\n",
       "      <td>0.056</td>\n",
       "      <td>0.143</td>\n",
       "      <td>NEG</td>\n",
       "    </tr>\n",
       "    <tr>\n",
       "      <th>4</th>\n",
       "      <td>4</td>\n",
       "      <td>Arthur Magamedov</td>\n",
       "      <td>Love it!</td>\n",
       "      <td>5</td>\n",
       "      <td>0</td>\n",
       "      <td>18-02-2022 01:06</td>\n",
       "      <td>Tinder</td>\n",
       "      <td>[love]</td>\n",
       "      <td>{'neg': 0.0, 'neu': 0.182, 'pos': 0.818, 'comp...</td>\n",
       "      <td>0.6696</td>\n",
       "      <td>0.818</td>\n",
       "      <td>0.000</td>\n",
       "      <td>POS</td>\n",
       "    </tr>\n",
       "  </tbody>\n",
       "</table>\n",
       "</div>"
      ],
      "text/plain": [
       "   Unnamed: 0              Name  \\\n",
       "0           0     linah sibanda   \n",
       "1           1    Norman Johnson   \n",
       "2           2        David Hume   \n",
       "3           3   Last 1 Standing   \n",
       "4           4  Arthur Magamedov   \n",
       "\n",
       "                                              Review  Rating  #ThumbsUp  \\\n",
       "0                  On this app i cant find a partner       5          0   \n",
       "1  Tinder would be so much better if we could spe...       3          0   \n",
       "2  Still doesn't correctly notify matches or mess...       1          0   \n",
       "3  Got banned because I updated my bio to say \"I ...       2          0   \n",
       "4                                           Love it!       5          0   \n",
       "\n",
       "          Date&Time     App  \\\n",
       "0  18-02-2022 01:19  Tinder   \n",
       "1  18-02-2022 01:16  Tinder   \n",
       "2  18-02-2022 01:11  Tinder   \n",
       "3  18-02-2022 01:11  Tinder   \n",
       "4  18-02-2022 01:06  Tinder   \n",
       "\n",
       "                                         Review_norm  \\\n",
       "0                     [on, app, cant, find, partner]   \n",
       "1  [tinder, would, much, better, could, specify, ...   \n",
       "2  [still, correctly, notify, matches, messages, ...   \n",
       "3  [got, banned, i, updated, bio, say, i, feel, l...   \n",
       "4                                             [love]   \n",
       "\n",
       "                                              scores  compound    pos    neg  \\\n",
       "0  {'neg': 0.0, 'neu': 1.0, 'pos': 0.0, 'compound...    0.0000  0.000  0.000   \n",
       "1  {'neg': 0.0, 'neu': 0.874, 'pos': 0.126, 'comp...    0.4902  0.126  0.000   \n",
       "2  {'neg': 0.149, 'neu': 0.773, 'pos': 0.078, 'co...   -0.7380  0.078  0.149   \n",
       "3  {'neg': 0.143, 'neu': 0.802, 'pos': 0.056, 'co...   -0.5994  0.056  0.143   \n",
       "4  {'neg': 0.0, 'neu': 0.182, 'pos': 0.818, 'comp...    0.6696  0.818  0.000   \n",
       "\n",
       "      type  \n",
       "0  NEUTRAL  \n",
       "1      POS  \n",
       "2      NEG  \n",
       "3      NEG  \n",
       "4      POS  "
      ]
     },
     "execution_count": 57,
     "metadata": {},
     "output_type": "execute_result"
    }
   ],
   "source": [
    "# Creating one final column that outlines what each review is\n",
    "dating_df['type'] = ''\n",
    "dating_df.loc[dating_df.compound > 0,'type'] = 'POS'\n",
    "dating_df.loc[dating_df.compound == 0,'type'] = 'NEUTRAL'\n",
    "dating_df.loc[dating_df.compound < 0,'type'] = 'NEG'\n",
    "dating_df.head()"
   ]
  },
  {
   "cell_type": "code",
   "execution_count": 60,
   "id": "8d995e2d",
   "metadata": {},
   "outputs": [
    {
     "name": "stdout",
     "output_type": "stream",
     "text": [
      "Positive :347123  Negative :195380   Neutral :139491\n"
     ]
    }
   ],
   "source": [
    "# Looping through to determine how many postive, negative, and neutral reviews our dataset contains\n",
    "len = dating_df.shape\n",
    "(rows, cols) = len\n",
    "pos = 0\n",
    "neg = 0\n",
    "neutral = 0\n",
    "for i in range(0, rows):\n",
    "    if dating_df.loc[i][12] == 'POS':\n",
    "        pos = pos + 1\n",
    "    if dating_df.loc[i][12] == 'NEG':\n",
    "        neg = neg + 1\n",
    "    if dating_df.loc[i][12] == 'NEUTRAL':\n",
    "        neutral = neutral + 1\n",
    "print('Positive :' + str(pos) + '  Negative :' + str(neg) + '   Neutral :' + str(neutral))"
   ]
  },
  {
   "cell_type": "code",
   "execution_count": 64,
   "id": "a9f0916c",
   "metadata": {},
   "outputs": [
    {
     "data": {
      "text/plain": [
       "App     type   \n",
       "Bumble  NEG         31841\n",
       "        NEUTRAL     15661\n",
       "        POS         54882\n",
       "Hinge   NEG         13113\n",
       "        NEUTRAL      7063\n",
       "        POS         32818\n",
       "Tinder  NEG        150426\n",
       "        NEUTRAL    116767\n",
       "        POS        259423\n",
       "Name: type, dtype: int64"
      ]
     },
     "execution_count": 64,
     "metadata": {},
     "output_type": "execute_result"
    }
   ],
   "source": [
    "app_sentiment = dating_df.groupby(['App', 'type'])['type'].count()\n",
    "app_sentiment"
   ]
  },
  {
   "cell_type": "code",
   "execution_count": 67,
   "id": "8d651cc8",
   "metadata": {},
   "outputs": [
    {
     "data": {
      "text/html": [
       "<div>\n",
       "<style scoped>\n",
       "    .dataframe tbody tr th:only-of-type {\n",
       "        vertical-align: middle;\n",
       "    }\n",
       "\n",
       "    .dataframe tbody tr th {\n",
       "        vertical-align: top;\n",
       "    }\n",
       "\n",
       "    .dataframe thead th {\n",
       "        text-align: right;\n",
       "    }\n",
       "</style>\n",
       "<table border=\"1\" class=\"dataframe\">\n",
       "  <thead>\n",
       "    <tr style=\"text-align: right;\">\n",
       "      <th></th>\n",
       "      <th>Unnamed: 0</th>\n",
       "      <th>Name</th>\n",
       "      <th>Review</th>\n",
       "      <th>Rating</th>\n",
       "      <th>#ThumbsUp</th>\n",
       "      <th>Date&amp;Time</th>\n",
       "      <th>App</th>\n",
       "      <th>Review_norm</th>\n",
       "      <th>scores</th>\n",
       "      <th>compound</th>\n",
       "      <th>pos</th>\n",
       "      <th>neg</th>\n",
       "      <th>type</th>\n",
       "      <th>New_Rating</th>\n",
       "    </tr>\n",
       "  </thead>\n",
       "  <tbody>\n",
       "    <tr>\n",
       "      <th>0</th>\n",
       "      <td>0</td>\n",
       "      <td>linah sibanda</td>\n",
       "      <td>On this app i cant find a partner</td>\n",
       "      <td>5</td>\n",
       "      <td>0</td>\n",
       "      <td>18-02-2022 01:19</td>\n",
       "      <td>Tinder</td>\n",
       "      <td>[on, app, cant, find, partner]</td>\n",
       "      <td>{'neg': 0.0, 'neu': 1.0, 'pos': 0.0, 'compound...</td>\n",
       "      <td>0.0000</td>\n",
       "      <td>0.000</td>\n",
       "      <td>0.000</td>\n",
       "      <td>NEUTRAL</td>\n",
       "      <td>1</td>\n",
       "    </tr>\n",
       "    <tr>\n",
       "      <th>1</th>\n",
       "      <td>1</td>\n",
       "      <td>Norman Johnson</td>\n",
       "      <td>Tinder would be so much better if we could spe...</td>\n",
       "      <td>3</td>\n",
       "      <td>0</td>\n",
       "      <td>18-02-2022 01:16</td>\n",
       "      <td>Tinder</td>\n",
       "      <td>[tinder, would, much, better, could, specify, ...</td>\n",
       "      <td>{'neg': 0.0, 'neu': 0.874, 'pos': 0.126, 'comp...</td>\n",
       "      <td>0.4902</td>\n",
       "      <td>0.126</td>\n",
       "      <td>0.000</td>\n",
       "      <td>POS</td>\n",
       "      <td>1</td>\n",
       "    </tr>\n",
       "    <tr>\n",
       "      <th>2</th>\n",
       "      <td>2</td>\n",
       "      <td>David Hume</td>\n",
       "      <td>Still doesn't correctly notify matches or mess...</td>\n",
       "      <td>1</td>\n",
       "      <td>0</td>\n",
       "      <td>18-02-2022 01:11</td>\n",
       "      <td>Tinder</td>\n",
       "      <td>[still, correctly, notify, matches, messages, ...</td>\n",
       "      <td>{'neg': 0.149, 'neu': 0.773, 'pos': 0.078, 'co...</td>\n",
       "      <td>-0.7380</td>\n",
       "      <td>0.078</td>\n",
       "      <td>0.149</td>\n",
       "      <td>NEG</td>\n",
       "      <td>0</td>\n",
       "    </tr>\n",
       "    <tr>\n",
       "      <th>3</th>\n",
       "      <td>3</td>\n",
       "      <td>Last 1 Standing</td>\n",
       "      <td>Got banned because I updated my bio to say \"I ...</td>\n",
       "      <td>2</td>\n",
       "      <td>0</td>\n",
       "      <td>18-02-2022 01:11</td>\n",
       "      <td>Tinder</td>\n",
       "      <td>[got, banned, i, updated, bio, say, i, feel, l...</td>\n",
       "      <td>{'neg': 0.143, 'neu': 0.802, 'pos': 0.056, 'co...</td>\n",
       "      <td>-0.5994</td>\n",
       "      <td>0.056</td>\n",
       "      <td>0.143</td>\n",
       "      <td>NEG</td>\n",
       "      <td>0</td>\n",
       "    </tr>\n",
       "    <tr>\n",
       "      <th>4</th>\n",
       "      <td>4</td>\n",
       "      <td>Arthur Magamedov</td>\n",
       "      <td>Love it!</td>\n",
       "      <td>5</td>\n",
       "      <td>0</td>\n",
       "      <td>18-02-2022 01:06</td>\n",
       "      <td>Tinder</td>\n",
       "      <td>[love]</td>\n",
       "      <td>{'neg': 0.0, 'neu': 0.182, 'pos': 0.818, 'comp...</td>\n",
       "      <td>0.6696</td>\n",
       "      <td>0.818</td>\n",
       "      <td>0.000</td>\n",
       "      <td>POS</td>\n",
       "      <td>1</td>\n",
       "    </tr>\n",
       "  </tbody>\n",
       "</table>\n",
       "</div>"
      ],
      "text/plain": [
       "   Unnamed: 0              Name  \\\n",
       "0           0     linah sibanda   \n",
       "1           1    Norman Johnson   \n",
       "2           2        David Hume   \n",
       "3           3   Last 1 Standing   \n",
       "4           4  Arthur Magamedov   \n",
       "\n",
       "                                              Review  Rating  #ThumbsUp  \\\n",
       "0                  On this app i cant find a partner       5          0   \n",
       "1  Tinder would be so much better if we could spe...       3          0   \n",
       "2  Still doesn't correctly notify matches or mess...       1          0   \n",
       "3  Got banned because I updated my bio to say \"I ...       2          0   \n",
       "4                                           Love it!       5          0   \n",
       "\n",
       "          Date&Time     App  \\\n",
       "0  18-02-2022 01:19  Tinder   \n",
       "1  18-02-2022 01:16  Tinder   \n",
       "2  18-02-2022 01:11  Tinder   \n",
       "3  18-02-2022 01:11  Tinder   \n",
       "4  18-02-2022 01:06  Tinder   \n",
       "\n",
       "                                         Review_norm  \\\n",
       "0                     [on, app, cant, find, partner]   \n",
       "1  [tinder, would, much, better, could, specify, ...   \n",
       "2  [still, correctly, notify, matches, messages, ...   \n",
       "3  [got, banned, i, updated, bio, say, i, feel, l...   \n",
       "4                                             [love]   \n",
       "\n",
       "                                              scores  compound    pos    neg  \\\n",
       "0  {'neg': 0.0, 'neu': 1.0, 'pos': 0.0, 'compound...    0.0000  0.000  0.000   \n",
       "1  {'neg': 0.0, 'neu': 0.874, 'pos': 0.126, 'comp...    0.4902  0.126  0.000   \n",
       "2  {'neg': 0.149, 'neu': 0.773, 'pos': 0.078, 'co...   -0.7380  0.078  0.149   \n",
       "3  {'neg': 0.143, 'neu': 0.802, 'pos': 0.056, 'co...   -0.5994  0.056  0.143   \n",
       "4  {'neg': 0.0, 'neu': 0.182, 'pos': 0.818, 'comp...    0.6696  0.818  0.000   \n",
       "\n",
       "      type  New_Rating  \n",
       "0  NEUTRAL           1  \n",
       "1      POS           1  \n",
       "2      NEG           0  \n",
       "3      NEG           0  \n",
       "4      POS           1  "
      ]
     },
     "execution_count": 67,
     "metadata": {},
     "output_type": "execute_result"
    }
   ],
   "source": [
    "# Define a function to map the rating values to 0 or 1\n",
    "def map_rating(rating):\n",
    "    if rating <= 2:\n",
    "        return 0\n",
    "    else:\n",
    "        return 1\n",
    "\n",
    "# Apply the mapping function to the 'rating' column and create a new column called 'new_rating'\n",
    "dating_df['New_Rating'] = dating_df['Rating'].apply(map_rating)\n",
    "dating_df.head()"
   ]
  },
  {
   "cell_type": "code",
   "execution_count": 72,
   "id": "68ce3f9e",
   "metadata": {},
   "outputs": [
    {
     "data": {
      "text/html": [
       "<div>\n",
       "<style scoped>\n",
       "    .dataframe tbody tr th:only-of-type {\n",
       "        vertical-align: middle;\n",
       "    }\n",
       "\n",
       "    .dataframe tbody tr th {\n",
       "        vertical-align: top;\n",
       "    }\n",
       "\n",
       "    .dataframe thead th {\n",
       "        text-align: right;\n",
       "    }\n",
       "</style>\n",
       "<table border=\"1\" class=\"dataframe\">\n",
       "  <thead>\n",
       "    <tr style=\"text-align: right;\">\n",
       "      <th></th>\n",
       "      <th>Rating</th>\n",
       "      <th>App</th>\n",
       "      <th>Review_norm</th>\n",
       "      <th>New_Rating</th>\n",
       "    </tr>\n",
       "  </thead>\n",
       "  <tbody>\n",
       "    <tr>\n",
       "      <th>0</th>\n",
       "      <td>5</td>\n",
       "      <td>Tinder</td>\n",
       "      <td>[on, app, cant, find, partner]</td>\n",
       "      <td>1</td>\n",
       "    </tr>\n",
       "    <tr>\n",
       "      <th>1</th>\n",
       "      <td>3</td>\n",
       "      <td>Tinder</td>\n",
       "      <td>[tinder, would, much, better, could, specify, ...</td>\n",
       "      <td>1</td>\n",
       "    </tr>\n",
       "    <tr>\n",
       "      <th>2</th>\n",
       "      <td>1</td>\n",
       "      <td>Tinder</td>\n",
       "      <td>[still, correctly, notify, matches, messages, ...</td>\n",
       "      <td>0</td>\n",
       "    </tr>\n",
       "    <tr>\n",
       "      <th>3</th>\n",
       "      <td>2</td>\n",
       "      <td>Tinder</td>\n",
       "      <td>[got, banned, i, updated, bio, say, i, feel, l...</td>\n",
       "      <td>0</td>\n",
       "    </tr>\n",
       "    <tr>\n",
       "      <th>4</th>\n",
       "      <td>5</td>\n",
       "      <td>Tinder</td>\n",
       "      <td>[love]</td>\n",
       "      <td>1</td>\n",
       "    </tr>\n",
       "  </tbody>\n",
       "</table>\n",
       "</div>"
      ],
      "text/plain": [
       "   Rating     App                                        Review_norm  \\\n",
       "0       5  Tinder                     [on, app, cant, find, partner]   \n",
       "1       3  Tinder  [tinder, would, much, better, could, specify, ...   \n",
       "2       1  Tinder  [still, correctly, notify, matches, messages, ...   \n",
       "3       2  Tinder  [got, banned, i, updated, bio, say, i, feel, l...   \n",
       "4       5  Tinder                                             [love]   \n",
       "\n",
       "   New_Rating  \n",
       "0           1  \n",
       "1           1  \n",
       "2           0  \n",
       "3           0  \n",
       "4           1  "
      ]
     },
     "execution_count": 72,
     "metadata": {},
     "output_type": "execute_result"
    }
   ],
   "source": [
    "dating_df2 = dating_df[['Rating','App', 'Review_norm', 'New_Rating']]\n",
    "dating_df2.head()"
   ]
  },
  {
   "cell_type": "code",
   "execution_count": 75,
   "id": "4df24c34",
   "metadata": {},
   "outputs": [],
   "source": [
    "# Going to run a logistic regression on our data\n",
    "y = dating_df2['New_Rating']\n",
    "X = dating_df2.drop(['New_Rating', 'App', 'Review_norm'], axis = 1)\n",
    "\n",
    "X_train, X_test, y_train, y_test = train_test_split(X, y, random_state = 0)"
   ]
  },
  {
   "cell_type": "code",
   "execution_count": 76,
   "id": "acb9f3f1",
   "metadata": {},
   "outputs": [
    {
     "data": {
      "text/html": [
       "<style>#sk-container-id-1 {color: black;background-color: white;}#sk-container-id-1 pre{padding: 0;}#sk-container-id-1 div.sk-toggleable {background-color: white;}#sk-container-id-1 label.sk-toggleable__label {cursor: pointer;display: block;width: 100%;margin-bottom: 0;padding: 0.3em;box-sizing: border-box;text-align: center;}#sk-container-id-1 label.sk-toggleable__label-arrow:before {content: \"▸\";float: left;margin-right: 0.25em;color: #696969;}#sk-container-id-1 label.sk-toggleable__label-arrow:hover:before {color: black;}#sk-container-id-1 div.sk-estimator:hover label.sk-toggleable__label-arrow:before {color: black;}#sk-container-id-1 div.sk-toggleable__content {max-height: 0;max-width: 0;overflow: hidden;text-align: left;background-color: #f0f8ff;}#sk-container-id-1 div.sk-toggleable__content pre {margin: 0.2em;color: black;border-radius: 0.25em;background-color: #f0f8ff;}#sk-container-id-1 input.sk-toggleable__control:checked~div.sk-toggleable__content {max-height: 200px;max-width: 100%;overflow: auto;}#sk-container-id-1 input.sk-toggleable__control:checked~label.sk-toggleable__label-arrow:before {content: \"▾\";}#sk-container-id-1 div.sk-estimator input.sk-toggleable__control:checked~label.sk-toggleable__label {background-color: #d4ebff;}#sk-container-id-1 div.sk-label input.sk-toggleable__control:checked~label.sk-toggleable__label {background-color: #d4ebff;}#sk-container-id-1 input.sk-hidden--visually {border: 0;clip: rect(1px 1px 1px 1px);clip: rect(1px, 1px, 1px, 1px);height: 1px;margin: -1px;overflow: hidden;padding: 0;position: absolute;width: 1px;}#sk-container-id-1 div.sk-estimator {font-family: monospace;background-color: #f0f8ff;border: 1px dotted black;border-radius: 0.25em;box-sizing: border-box;margin-bottom: 0.5em;}#sk-container-id-1 div.sk-estimator:hover {background-color: #d4ebff;}#sk-container-id-1 div.sk-parallel-item::after {content: \"\";width: 100%;border-bottom: 1px solid gray;flex-grow: 1;}#sk-container-id-1 div.sk-label:hover label.sk-toggleable__label {background-color: #d4ebff;}#sk-container-id-1 div.sk-serial::before {content: \"\";position: absolute;border-left: 1px solid gray;box-sizing: border-box;top: 0;bottom: 0;left: 50%;z-index: 0;}#sk-container-id-1 div.sk-serial {display: flex;flex-direction: column;align-items: center;background-color: white;padding-right: 0.2em;padding-left: 0.2em;position: relative;}#sk-container-id-1 div.sk-item {position: relative;z-index: 1;}#sk-container-id-1 div.sk-parallel {display: flex;align-items: stretch;justify-content: center;background-color: white;position: relative;}#sk-container-id-1 div.sk-item::before, #sk-container-id-1 div.sk-parallel-item::before {content: \"\";position: absolute;border-left: 1px solid gray;box-sizing: border-box;top: 0;bottom: 0;left: 50%;z-index: -1;}#sk-container-id-1 div.sk-parallel-item {display: flex;flex-direction: column;z-index: 1;position: relative;background-color: white;}#sk-container-id-1 div.sk-parallel-item:first-child::after {align-self: flex-end;width: 50%;}#sk-container-id-1 div.sk-parallel-item:last-child::after {align-self: flex-start;width: 50%;}#sk-container-id-1 div.sk-parallel-item:only-child::after {width: 0;}#sk-container-id-1 div.sk-dashed-wrapped {border: 1px dashed gray;margin: 0 0.4em 0.5em 0.4em;box-sizing: border-box;padding-bottom: 0.4em;background-color: white;}#sk-container-id-1 div.sk-label label {font-family: monospace;font-weight: bold;display: inline-block;line-height: 1.2em;}#sk-container-id-1 div.sk-label-container {text-align: center;}#sk-container-id-1 div.sk-container {/* jupyter's `normalize.less` sets `[hidden] { display: none; }` but bootstrap.min.css set `[hidden] { display: none !important; }` so we also need the `!important` here to be able to override the default hidden behavior on the sphinx rendered scikit-learn.org. See: https://github.com/scikit-learn/scikit-learn/issues/21755 */display: inline-block !important;position: relative;}#sk-container-id-1 div.sk-text-repr-fallback {display: none;}</style><div id=\"sk-container-id-1\" class=\"sk-top-container\"><div class=\"sk-text-repr-fallback\"><pre>LogisticRegression(C=1000000000000.0, fit_intercept=False, solver=&#x27;liblinear&#x27;)</pre><b>In a Jupyter environment, please rerun this cell to show the HTML representation or trust the notebook. <br />On GitHub, the HTML representation is unable to render, please try loading this page with nbviewer.org.</b></div><div class=\"sk-container\" hidden><div class=\"sk-item\"><div class=\"sk-estimator sk-toggleable\"><input class=\"sk-toggleable__control sk-hidden--visually\" id=\"sk-estimator-id-1\" type=\"checkbox\" checked><label for=\"sk-estimator-id-1\" class=\"sk-toggleable__label sk-toggleable__label-arrow\">LogisticRegression</label><div class=\"sk-toggleable__content\"><pre>LogisticRegression(C=1000000000000.0, fit_intercept=False, solver=&#x27;liblinear&#x27;)</pre></div></div></div></div></div>"
      ],
      "text/plain": [
       "LogisticRegression(C=1000000000000.0, fit_intercept=False, solver='liblinear')"
      ]
     },
     "execution_count": 76,
     "metadata": {},
     "output_type": "execute_result"
    }
   ],
   "source": [
    "logreg = LogisticRegression(fit_intercept = False, C = 1e12, solver = 'liblinear')\n",
    "model_log = logreg.fit(X_train, y_train)\n",
    "model_log"
   ]
  },
  {
   "cell_type": "code",
   "execution_count": 77,
   "id": "4c04b308",
   "metadata": {},
   "outputs": [
    {
     "name": "stdout",
     "output_type": "stream",
     "text": [
      "0    283369\n",
      "1    228126\n",
      "Name: Residuals (counts), dtype: int64\n",
      "\n",
      "0    0.554002\n",
      "1    0.445998\n",
      "Name: Residuals (proportions), dtype: float64\n"
     ]
    }
   ],
   "source": [
    "y_hat_train = logreg.predict(X_train)\n",
    "\n",
    "train_residuals = np.abs(y_train - y_hat_train)\n",
    "print(pd.Series(train_residuals, name = 'Residuals (counts)').value_counts())\n",
    "print()\n",
    "print(pd.Series(train_residuals, name = 'Residuals (proportions)').value_counts(normalize = True))"
   ]
  },
  {
   "cell_type": "code",
   "execution_count": 78,
   "id": "57f02daf",
   "metadata": {},
   "outputs": [
    {
     "name": "stdout",
     "output_type": "stream",
     "text": [
      "0    94401\n",
      "1    76098\n",
      "Name: Residuals (counts), dtype: int64\n",
      "\n",
      "0    0.553675\n",
      "1    0.446325\n",
      "Name: Residuals (proportions), dtype: float64\n"
     ]
    }
   ],
   "source": [
    "y_hat_test = logreg.predict(X_test)\n",
    "\n",
    "test_residuals = np.abs(y_test - y_hat_test)\n",
    "print(pd.Series(test_residuals, name = 'Residuals (counts)').value_counts())\n",
    "print()\n",
    "print(pd.Series(test_residuals, name = 'Residuals (proportions)').value_counts(normalize = True))"
   ]
  },
  {
   "cell_type": "code",
   "execution_count": null,
   "id": "e222f853",
   "metadata": {},
   "outputs": [],
   "source": []
  }
 ],
 "metadata": {
  "kernelspec": {
   "display_name": "cremedelaclem",
   "language": "python",
   "name": "cremedelaclem"
  },
  "language_info": {
   "codemirror_mode": {
    "name": "ipython",
    "version": 3
   },
   "file_extension": ".py",
   "mimetype": "text/x-python",
   "name": "python",
   "nbconvert_exporter": "python",
   "pygments_lexer": "ipython3",
   "version": "3.8.16"
  }
 },
 "nbformat": 4,
 "nbformat_minor": 5
}
